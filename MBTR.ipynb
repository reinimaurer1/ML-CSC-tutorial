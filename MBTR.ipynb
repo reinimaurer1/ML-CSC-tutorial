{
  "nbformat": 4,
  "nbformat_minor": 0,
  "metadata": {
    "kernelspec": {
      "display_name": "Python 3",
      "language": "python",
      "name": "python3"
    },
    "language_info": {
      "codemirror_mode": {
        "name": "ipython",
        "version": 3
      },
      "file_extension": ".py",
      "mimetype": "text/x-python",
      "name": "python",
      "nbconvert_exporter": "python",
      "pygments_lexer": "ipython3",
      "version": "3.5.2"
    },
    "colab": {
      "name": "MBTR.ipynb",
      "provenance": []
    }
  },
  "cells": [
    {
      "cell_type": "markdown",
      "metadata": {
        "id": "X4A8lhnig1vV"
      },
      "source": [
        "# Many Body Tensor Representation\n",
        "\n",
        "MBTR is a global descriptor for a molecule/unit cell. It eliminates rotational, translational, and permutation variances by gathering information about different configurations of $K$ atoms into tensors that are stratified by the involved chemical elements. All element combinations have an associated gaussian-smeared exponentially-weighted histogram.\n",
        "\n",
        "## The Tensor\n",
        "The tensor comprises of combinations of elements in different numbers. So, K1 is 1 element, K2 is 2 elements, and so on. These K's represent different expression of the molecule/unit-cell.\n",
        "\n",
        "### K1\n",
        "K1 represents the gaussian-smeared histogram for **counts** of each element type. So, in essense it is a matrix of size MxN, where M is the number of elements, and N is the number of bins.\n",
        "\n",
        "![K1](https://github.com/reinimaurer1/ML-CSC-tutorial/blob/master/images/k1.png?raw=1)\n",
        "\n",
        "### K2\n",
        "K2 represents the gaussian-smeared exponentially-weighted histogram **inverse distances** of pairs of elements. So, this becomes a tensor of size MxMxN, where M is the number of elements, and N is the number of bins.\n",
        "\n",
        "![K2](https://github.com/reinimaurer1/ML-CSC-tutorial/blob/master/images/k2.png?raw=1)\n",
        "\n",
        "### K3\n",
        "K3 represents the gaussian-smeared exponentially-weighted histogram **angles between triplets** of elements. So, this becomes a tensor of size MxMxMxN, where M is the number of elements, and N is the number of bins.\n",
        "\n",
        "![K3](https://github.com/reinimaurer1/ML-CSC-tutorial/blob/master/images/k3.png?raw=1)\n",
        "\n",
        "*Note: the dscribe package has implementation of MBTR up to K3*\n",
        "\n",
        "### K4 \n",
        "K4 represents the gaussian-smeared exponantially-weighted histogram **di-hedral angles** between quadruplets of elements. So, this becomes a tensor of size MxMxMxMxN, where M is the number of elements, and N is the number of bins.\n",
        "\n",
        "![K4](https://github.com/reinimaurer1/ML-CSC-tutorial/blob/master/images/k4.png?raw=1)\n",
        "\n",
        "## Weighting\n",
        "\n",
        "All the tensors, but K1, are weighted. This ensures that contributions from nearby atoms is higher, than from farther ones.\n",
        "\n",
        "For more info about MBTR see:\n",
        "[Huo, Haoyan, and Matthias Rupp. *arXiv preprint* **arXiv:1704.06439 (2017)**](https://arxiv.org/pdf/1704.06439.pdf)  \n",
        "\n",
        "For calculating MBTR, we use the [DScribe package](https://singroup.github.io/dscribe) as developed by [Surfaces and Interfaces at the Nanoscale, Aalto](http://physics.aalto.fi/en/groups/sin/)"
      ]
    },
    {
      "cell_type": "markdown",
      "metadata": {
        "id": "ip9ejHdng1vY"
      },
      "source": [
        "## Example\n",
        "\n",
        "We are going to see MBTR in action for a simple NaCl system."
      ]
    },
    {
      "cell_type": "code",
      "metadata": {
        "colab": {
          "base_uri": "https://localhost:8080/"
        },
        "id": "e1DmMUYqg1vZ",
        "outputId": "2068cca0-1b13-4143-ade1-982e8fee3f22"
      },
      "source": [
        "#resolve KRR dependency\n",
        "import os\n",
        "!pip install dscribe\n",
        "# --- INITIAL DEFINITIONS ---\n",
        "from dscribe.descriptors import MBTR\n",
        "import numpy as np\n",
        "from ase.visualize import view\n",
        "from ase import Atoms\n",
        "import matplotlib.pyplot as mpl"
      ],
      "execution_count": 2,
      "outputs": [
        {
          "output_type": "stream",
          "text": [
            "Collecting dscribe\n",
            "  Using cached dscribe-1.1.0.tar.gz (143 kB)\n",
            "Collecting pybind11>=2.4\n",
            "  Using cached pybind11-2.7.1-py2.py3-none-any.whl (200 kB)\n",
            "Requirement already satisfied: numpy in /usr/local/lib/python3.7/dist-packages (from dscribe) (1.19.5)\n",
            "Requirement already satisfied: scipy in /usr/local/lib/python3.7/dist-packages (from dscribe) (1.4.1)\n",
            "Collecting ase>=3.19.0\n",
            "  Using cached ase-3.22.0-py3-none-any.whl (2.2 MB)\n",
            "Requirement already satisfied: scikit-learn in /usr/local/lib/python3.7/dist-packages (from dscribe) (0.22.2.post1)\n",
            "Requirement already satisfied: joblib>=1.0.0 in /usr/local/lib/python3.7/dist-packages (from dscribe) (1.0.1)\n",
            "Collecting sparse\n",
            "  Using cached sparse-0.12.0-py2.py3-none-any.whl (76 kB)\n",
            "Requirement already satisfied: matplotlib>=3.1.0 in /usr/local/lib/python3.7/dist-packages (from ase>=3.19.0->dscribe) (3.2.2)\n",
            "Requirement already satisfied: python-dateutil>=2.1 in /usr/local/lib/python3.7/dist-packages (from matplotlib>=3.1.0->ase>=3.19.0->dscribe) (2.8.1)\n",
            "Requirement already satisfied: cycler>=0.10 in /usr/local/lib/python3.7/dist-packages (from matplotlib>=3.1.0->ase>=3.19.0->dscribe) (0.10.0)\n",
            "Requirement already satisfied: pyparsing!=2.0.4,!=2.1.2,!=2.1.6,>=2.0.1 in /usr/local/lib/python3.7/dist-packages (from matplotlib>=3.1.0->ase>=3.19.0->dscribe) (2.4.7)\n",
            "Requirement already satisfied: kiwisolver>=1.0.1 in /usr/local/lib/python3.7/dist-packages (from matplotlib>=3.1.0->ase>=3.19.0->dscribe) (1.3.1)\n",
            "Requirement already satisfied: six in /usr/local/lib/python3.7/dist-packages (from cycler>=0.10->matplotlib>=3.1.0->ase>=3.19.0->dscribe) (1.15.0)\n",
            "Requirement already satisfied: numba>=0.49 in /usr/local/lib/python3.7/dist-packages (from sparse->dscribe) (0.51.2)\n",
            "Requirement already satisfied: setuptools in /usr/local/lib/python3.7/dist-packages (from numba>=0.49->sparse->dscribe) (57.2.0)\n",
            "Requirement already satisfied: llvmlite<0.35,>=0.34.0.dev0 in /usr/local/lib/python3.7/dist-packages (from numba>=0.49->sparse->dscribe) (0.34.0)\n",
            "Building wheels for collected packages: dscribe\n",
            "  Building wheel for dscribe (setup.py) ... \u001b[?25l\u001b[?25hdone\n",
            "  Created wheel for dscribe: filename=dscribe-1.1.0-cp37-cp37m-linux_x86_64.whl size=4339900 sha256=c003be1f68a6b409393cc1fe961cd6cca63c503de1cc3f37c36f9b75fca7dbd0\n",
            "  Stored in directory: /root/.cache/pip/wheels/05/f8/a6/c5328c447d56d1efed920c372cbd0086ac1e01de1b5adaa9db\n",
            "Successfully built dscribe\n",
            "Installing collected packages: sparse, pybind11, ase, dscribe\n",
            "Successfully installed ase-3.22.0 dscribe-1.1.0 pybind11-2.7.1 sparse-0.12.0\n"
          ],
          "name": "stdout"
        }
      ]
    },
    {
      "cell_type": "markdown",
      "metadata": {
        "id": "XmB2lODkg1va"
      },
      "source": [
        "### Atom description\n",
        "\n",
        "We'll make an ase.Atoms class for NaCl"
      ]
    },
    {
      "cell_type": "code",
      "metadata": {
        "colab": {
          "base_uri": "https://localhost:8080/"
        },
        "id": "SFIyfP9ig1vc",
        "outputId": "f37044d3-6046-419c-fb00-34875192c4ef"
      },
      "source": [
        "# Define the system under study: NaCl in a conventional cell.\n",
        "NaCl_conv = Atoms(\n",
        "    cell=[\n",
        "        [5.6402, 0.0, 0.0],\n",
        "        [0.0, 5.6402, 0.0],\n",
        "        [0.0, 0.0, 5.6402]\n",
        "    ],\n",
        "    scaled_positions=[\n",
        "        [0.0, 0.5, 0.0],\n",
        "        [0.0, 0.5, 0.5],\n",
        "        [0.0, 0.0, 0.5],\n",
        "        [0.0, 0.0, 0.0],\n",
        "        [0.5, 0.5, 0.5],\n",
        "        [0.5, 0.5, 0.0],\n",
        "        [0.5, 0.0, 0.0],\n",
        "        [0.5, 0.0, 0.5]\n",
        "    ],\n",
        "    symbols=[\"Na\", \"Cl\", \"Na\", \"Cl\", \"Na\", \"Cl\", \"Na\", \"Cl\"],\n",
        ")\n",
        "view(NaCl_conv)"
      ],
      "execution_count": 3,
      "outputs": [
        {
          "output_type": "execute_result",
          "data": {
            "text/plain": [
              "<subprocess.Popen at 0x7f0bacd8e6d0>"
            ]
          },
          "metadata": {
            "tags": []
          },
          "execution_count": 3
        }
      ]
    },
    {
      "cell_type": "markdown",
      "metadata": {
        "id": "MDGVGhQBg1ve"
      },
      "source": [
        "### Setting MBTR hyper-parameters\n",
        "\n",
        "Next we set-up hyper-parameters:\n",
        "1. species, the chemical elements to include in the MBTR, helps comparing two structures with missing elements\n",
        "2. k, list/set of K's to be computed\n",
        "3. grid: dictionary for K1, K2, K3 with\n",
        "    min, max: are the min and max values for each distribution\n",
        "    sigma, the exponent coefficient for smearing\n",
        "    n, number of bins.\n",
        "4. weights: dictionary of weighting functions to be used.\n",
        "\n",
        "**Note: The dscribe package has implementation of MBTR up to K3**\n"
      ]
    },
    {
      "cell_type": "code",
      "metadata": {
        "colab": {
          "base_uri": "https://localhost:8080/"
        },
        "id": "Yh3LPaJZg1vf",
        "outputId": "9e51553a-e11b-4b0a-b970-5a77e356c258"
      },
      "source": [
        "# Create the MBTR desciptor for the system\n",
        "mbtr = MBTR(\n",
        "    species=['Na', 'Cl'], # Na and Cl\n",
        "    periodic=True,\n",
        "    k1={\n",
        "        \"geometry\": { \"function\": \"atomic_number\" },\n",
        "        \"grid\": { \"min\": 10, \"max\": 18, \"sigma\": 0.1, \"n\": 200 },\n",
        "    },\n",
        "    k2={\n",
        "        \"geometry\": {\"function\": \"inverse_distance\"},\n",
        "        \"grid\": { \"min\": 0, \"max\": 0.7, \"sigma\": 0.01, \"n\": 200 },\n",
        "        \"weighting\": {\"function\": \"exp\", \"scale\": 0.75, \"cutoff\": 1e-3}\n",
        "    },\n",
        "    k3={\n",
        "        \"geometry\": {\"function\": \"cosine\"},\n",
        "        \"grid\": { \"min\": -1.0, \"max\": 1.0, \"sigma\": 0.05, \"n\": 200 },\n",
        "        \"weighting\": {\"function\": \"exp\", \"scale\": 0.5, \"cutoff\": 1e-3}\n",
        "    },\n",
        "    \n",
        "    flatten=False,\n",
        "    sparse=False)\n",
        "print(\"Number of features: {}\".format(mbtr.get_number_of_features()))"
      ],
      "execution_count": 4,
      "outputs": [
        {
          "output_type": "stream",
          "text": [
            "Number of features: 2200\n"
          ],
          "name": "stdout"
        }
      ]
    },
    {
      "cell_type": "markdown",
      "metadata": {
        "id": "d41jgieXg1vh"
      },
      "source": [
        "### Calculate MBTR\n",
        "\n",
        "We call the create functin of mbtr class over our System(ase.Atoms) object"
      ]
    },
    {
      "cell_type": "code",
      "metadata": {
        "id": "3mJYol-ug1vj"
      },
      "source": [
        "#Create Descriptor\n",
        "desc = mbtr.create(NaCl_conv)"
      ],
      "execution_count": 5,
      "outputs": []
    },
    {
      "cell_type": "markdown",
      "metadata": {
        "id": "UHNybw62g1vk"
      },
      "source": [
        "### Plotting \n",
        "\n",
        "We will now plot all the tensors, in the same plot, for K1, K2, and K3"
      ]
    },
    {
      "cell_type": "code",
      "metadata": {
        "colab": {
          "base_uri": "https://localhost:8080/",
          "height": 304
        },
        "id": "tPlpW85pg1vl",
        "outputId": "b81c7a84-b7e2-429d-f914-64ee1d6d42cc"
      },
      "source": [
        "#plot K1\n",
        "x1 = mbtr.get_k1_axis()\n",
        "mpl.plot(x1, desc[\"k1\"][0, :], label=\"Na\", color=\"blue\")\n",
        "mpl.plot(x1, desc[\"k1\"][1, :], label=\"Cl\", color=\"orange\")\n",
        "mpl.ylabel(\"$\\phi$ (arbitrary units)\", size=14)\n",
        "mpl.xlabel(\"Atomic number\", size=14)\n",
        "mpl.title(\"The element count\", size=20)\n",
        "mpl.legend()\n",
        "mpl.show()"
      ],
      "execution_count": 6,
      "outputs": [
        {
          "output_type": "display_data",
          "data": {
            "image/png": "[encoded data removed]",
            "text/plain": [
              "<Figure size 432x288 with 1 Axes>"
            ]
          },
          "metadata": {
            "tags": [],
            "needs_background": "light"
          }
        }
      ]
    },
    {
      "cell_type": "code",
      "metadata": {
        "colab": {
          "base_uri": "https://localhost:8080/",
          "height": 304
        },
        "id": "-9811rwVg1vl",
        "outputId": "ee0ba2c6-99d8-4663-cc52-f941816ddab5"
      },
      "source": [
        "# Plot K2\n",
        "x2 = mbtr.get_k2_axis()\n",
        "mpl.plot(x2, desc[\"k2\"][0, 1, :], label=\"NaCl, ClNa\", color=\"blue\")\n",
        "mpl.plot(x2, desc[\"k2\"][1, 1, :], label=\"ClCl\", color=\"orange\")\n",
        "mpl.plot(x2, desc[\"k2\"][0, 0, :], label=\"NaNa\", color=\"green\")\n",
        "mpl.ylabel(\"$\\phi$ (arbitrary units)\", size=14)\n",
        "mpl.xlabel(\"Inverse distance (1/angstrom)\", size=14)\n",
        "mpl.title(\"Exponentially weighted inverse distance distribution\", size=20)\n",
        "mpl.legend()\n",
        "mpl.show()"
      ],
      "execution_count": 7,
      "outputs": [
        {
          "output_type": "display_data",
          "data": {
            "image/png": "[encoded data removed]",
            "text/plain": [
              "<Figure size 432x288 with 1 Axes>"
            ]
          },
          "metadata": {
            "tags": [],
            "needs_background": "light"
          }
        }
      ]
    },
    {
      "cell_type": "code",
      "metadata": {
        "scrolled": true,
        "colab": {
          "base_uri": "https://localhost:8080/",
          "height": 304
        },
        "id": "xV-US9dDg1vm",
        "outputId": "a3be16cf-2238-488c-dd10-30a10a0e231c"
      },
      "source": [
        "# Plot K3\n",
        "x3 = mbtr.get_k3_axis()\n",
        "mpl.plot(x3, desc[\"k3\"][0, 0, 0, :], label=\"NaNaNa, ClClCl\", color=\"blue\")\n",
        "mpl.plot(x3, desc[\"k3\"][0, 0, 1, :], label=\"NaNaCl, NaClCl\", color=\"orange\")\n",
        "mpl.plot(x3, desc[\"k3\"][1, 0, 1, :], label=\"NaClNa, ClNaCl\", color=\"green\")\n",
        "mpl.ylabel(\"$\\phi$ (arbitrary units)\", size=14)\n",
        "mpl.xlabel(\"cos(angle)\", size=14)\n",
        "mpl.title(\"Exponentially weighted angle distribution\", size=20)\n",
        "mpl.legend()\n",
        "mpl.show()"
      ],
      "execution_count": 8,
      "outputs": [
        {
          "output_type": "display_data",
          "data": {
            "image/png": "[encoded data removed]",
            "text/plain": [
              "<Figure size 432x288 with 1 Axes>"
            ]
          },
          "metadata": {
            "tags": [],
            "needs_background": "light"
          }
        }
      ]
    },
    {
      "cell_type": "markdown",
      "metadata": {
        "id": "voTWqEvzg1vm"
      },
      "source": [
        "## Remark\n",
        "\n",
        "The MBTR is a fingerprint of the entire system. Thus, it can be used to:\n",
        "1. Compare the similarity of two chemical system by taking comparing the MBTR values.\n",
        "2. Machine learn total properties, like energies, dipole moment, etc.\n",
        "\n",
        "## Exercise\n",
        "\n",
        "Verify that the MBTR is translationally and rotationally invariant."
      ]
    },
    {
      "cell_type": "code",
      "metadata": {
        "id": "Gd4OF0QZg1vm"
      },
      "source": [
        "\n"
      ],
      "execution_count": 8,
      "outputs": []
    },
    {
      "cell_type": "code",
      "metadata": {
        "id": "vi1t_XQ6iy1g"
      },
      "source": [
        ""
      ],
      "execution_count": null,
      "outputs": []
    }
  ]
}