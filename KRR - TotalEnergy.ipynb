{
  "nbformat": 4,
  "nbformat_minor": 0,
  "metadata": {
    "anaconda-cloud": {},
    "kernelspec": {
      "display_name": "Python 3",
      "language": "python",
      "name": "python3"
    },
    "language_info": {
      "codemirror_mode": {
        "name": "ipython",
        "version": 3
      },
      "file_extension": ".py",
      "mimetype": "text/x-python",
      "name": "python",
      "nbconvert_exporter": "python",
      "pygments_lexer": "ipython3",
      "version": "3.5.2"
    },
    "colab": {
      "name": "KRR - TotalEnergy.ipynb",
      "provenance": []
    }
  },
  "cells": [
    {
      "cell_type": "markdown",
      "metadata": {
        "id": "UkZROARRR7G_"
      },
      "source": [
        "# Total Energy Prediction - Kernel Ridge Regression\n",
        "\n",
        "## Introduction\n",
        "\n",
        "In this notebook we will machine-learn the relationship between descriptors of molecules and their total energy using kernel regression.\n",
        "\n",
        "KRR is a one of the ML methods to perform regression (fitting).\n",
        "\n",
        "In practice, we use kernel function $d$ that measures the distance between two data points.\n",
        "With the function we build the kernel matrix:\n",
        "\n",
        "\\begin{equation}\n",
        "K_{ij} =  d(M_{i}, M_{j}) - \\alpha I_{ij}\n",
        "\\end{equation}\n",
        "\n",
        "for all pairs of samples $M_i$ and $M_j$ in the training set. $I_{ij}$ is the identity matrix and $\\alpha$ is a hyperparameter chosen between 0 and 1.\n",
        "\n",
        "When we want to predict the output of a new sample or set of samples that were not in the training set, we need to first evaluate the distance between them and the training samples:\n",
        "\n",
        "\\begin{equation}\n",
        "D_{ij} =  d(T_{i}, M_{j})\n",
        "\\end{equation}\n",
        "\n",
        "where $T_i$ is one of the new samples. The output prediction $\\mathbf{y_T}$ for the test set $T$ is obtained by:\n",
        "\n",
        "\\begin{equation}\n",
        "\\mathbf{y_T} = \\mathbf{y_M} \\cdot K^{-1} \\cdot D^T\n",
        "\\end{equation}\n",
        "\n",
        "where $\\mathbf{y_M}$ is the vector of known outputs for the training set $M$.\n",
        "\n",
        "The energy of ~134k molecules was calculated at the CCSD level."
      ]
    },
    {
      "cell_type": "markdown",
      "metadata": {
        "id": "C_8A7l_IR7HC"
      },
      "source": [
        "## Setup"
      ]
    },
    {
      "cell_type": "code",
      "metadata": {
        "id": "76CIzwghR7HD",
        "outputId": "b868ee00-7de3-439d-8b56-61203a0704c5",
        "colab": {
          "base_uri": "https://localhost:8080/"
        }
      },
      "source": [
        "#resolve KRR dependency\n",
        "import os\n",
        "import os.path\n",
        "if os.path.exists('pyKRR.py'):\n",
        "    pass\n",
        "else:\n",
        "    !git clone https://github.com/reinimaurer1/ML-CSC-tutorial tut\n",
        "    !mv tut/data data\n",
        "    !mv tut/pyKRR.py ./\n",
        "# IMPORTS\n",
        "# INITIAL DEFINITIONS\n",
        "from pyKRR import KRRsolver  # import our KRR solver object\n",
        "import numpy, random\n",
        "import numpy, math, random\n",
        "import matplotlib.pyplot as plt\n",
        "from mpl_toolkits.mplot3d import Axes3D\n",
        "from scipy.sparse import load_npz"
      ],
      "execution_count": 55,
      "outputs": [
        {
          "output_type": "stream",
          "text": [
            "rm: cannot remove 'pyKRR.py': No such file or directory\n",
            "Cloning into 'tut'...\n",
            "remote: Enumerating objects: 372, done.\u001b[K\n",
            "remote: Counting objects: 100% (55/55), done.\u001b[K\n",
            "remote: Compressing objects: 100% (50/50), done.\u001b[K\n",
            "remote: Total 372 (delta 25), reused 16 (delta 5), pack-reused 317\u001b[K\n",
            "Receiving objects: 100% (372/372), 543.04 MiB | 35.43 MiB/s, done.\n",
            "Resolving deltas: 100% (148/148), done.\n",
            "Checking out files: 100% (129/129), done.\n"
          ],
          "name": "stdout"
        }
      ]
    },
    {
      "cell_type": "markdown",
      "metadata": {
        "id": "YwGX4ucCR7HE"
      },
      "source": [
        "Let's pick a descriptor. Allowed types are:\n",
        "\n",
        "1. cnt: atom counts\n",
        "2. bob: bag of bonds\n",
        "4. soap: smooth overlap of atomic positions; choose from:\n",
        "    1. soap.sum - all atoms summed together\n",
        "    4. soap.mean - mean of all atom SOAP\n",
        "    4. soap.centre - computed at the central point\n",
        "5. mbtr: many-body tensor representation\n",
        "6. cm: Coulomb matrix"
      ]
    },
    {
      "cell_type": "code",
      "metadata": {
        "id": "xz8CYLUvR7HF",
        "outputId": "6a3888d7-f7b7-4ccb-a6ae-7584a8843414",
        "colab": {
          "base_uri": "https://localhost:8080/"
        }
      },
      "source": [
        "# TYPE is the descriptor type\n",
        "TYPE = \"cnt\"\n",
        "\n",
        "#show descriptor details\n",
        "print(\"\\nDescriptor details\")\n",
        "desc = open(\"./data/descriptor.\"+TYPE.split('.')[0]+\".txt\",\"r\").readlines()\n",
        "for l in desc: print(l.strip())\n",
        "print(\" \")"
      ],
      "execution_count": 56,
      "outputs": [
        {
          "output_type": "stream",
          "text": [
            "\n",
            "Descriptor details\n",
            "Atom counts:\n",
            "\n",
            "Each molecule is represented by the count of each atom type found in it.\n",
            "There will be 5 numbers for each molecule, giving the total H,C,N,O,F atoms.\n",
            "This is effectively the chemical formula. Probably not a great descriptor!\n",
            " \n"
          ],
          "name": "stdout"
        }
      ]
    },
    {
      "cell_type": "markdown",
      "metadata": {
        "id": "Hp2ife7HR7HG"
      },
      "source": [
        "and load the databases with the descriptors (input) and the correct charge densities (output). Databases are quite big, so we can decide how many samples to use for training."
      ]
    },
    {
      "cell_type": "code",
      "metadata": {
        "id": "EU430ZzOR7HH",
        "outputId": "1bcc7bcc-978f-41a2-944b-60626e6836cc",
        "colab": {
          "base_uri": "https://localhost:8080/"
        }
      },
      "source": [
        "# load input/output data\n",
        "trainIn = load_npz(\"./data/energy.input.\"+TYPE+\".npz\").toarray()\n",
        "trainOut = numpy.load(\"./data/energy.output.npy\")\n",
        "trainIn = trainIn.astype(dtype=numpy.float64, casting='safe')\n",
        "\n",
        "# decide how many samples to take from the database\n",
        "samples  = min(trainIn.shape[0], 1000) # change the number here!\n",
        "vsamples = min(trainIn.shape[0]-samples,1000)\n",
        "print(\"training samples:   \"+str(samples))\n",
        "print(\"validation samples: \"+str(vsamples))\n",
        "\n",
        "# split between training and validation\n",
        "validIn = trainIn[samples:samples+vsamples]\n",
        "validOut = trainOut[samples:samples+vsamples]\n",
        "\n",
        "trainIn  = trainIn[0:samples]\n",
        "trainOut = trainOut[0:samples]\n",
        "\n",
        "# show the first few descriptors\n",
        "print(\"\\nDescriptors for the first 5 molecules:\")\n",
        "print(trainIn[0:5])"
      ],
      "execution_count": 57,
      "outputs": [
        {
          "output_type": "stream",
          "text": [
            "training samples:   1000\n",
            "validation samples: 1000\n",
            "\n",
            "Descriptors for the first 5 molecules:\n",
            "[[10.  7.  2.  0.  0.]\n",
            " [ 9.  5.  3.  0.  0.]\n",
            " [ 4.  4.  1.  1.  3.]\n",
            " [ 7.  6.  1.  1.  0.]\n",
            " [ 9.  6.  1.  2.  0.]]\n"
          ],
          "name": "stdout"
        }
      ]
    },
    {
      "cell_type": "markdown",
      "metadata": {
        "id": "4i2xyDHmR7HI"
      },
      "source": [
        "## Training\n",
        "\n",
        "In the training phase we use the kernel function $d$ to measure the distance between all pairs of molecules in the dataset. The results for the kernel matrix:\n",
        "\n",
        "\\begin{equation}\n",
        "K_{ij} =  d\\left(M_{i}, M_{j}\\right) - \\alpha I_{ij}\n",
        "\\end{equation}\n",
        "\n",
        "$I_{ij}$ is the identity matrix and $\\alpha$ is a regularisation hyperparameter $\\in \\left[0,1\\right]$.\n",
        "The matrix is then inverted."
      ]
    },
    {
      "cell_type": "code",
      "metadata": {
        "id": "jRkVyf8qR7HJ",
        "outputId": "c563b02f-fcac-495b-d3fd-f728882a057d",
        "colab": {
          "base_uri": "https://localhost:8080/"
        }
      },
      "source": [
        "# create a new solver\n",
        "solver = KRRsolver()\n",
        "\n",
        "# set the regularisation hyperparameter\n",
        "solver.alpha = 0.1\n",
        "\n",
        "# call its training function with the training inputs and outputs\n",
        "# WARNING: building the kernel matrix is O(N^2)\n",
        "# WARNING: inverting the kernel matris is O(N^3)\n",
        "# Keep the training set small\n",
        "solver.Train(trainIn, trainOut)"
      ],
      "execution_count": 58,
      "outputs": [
        {
          "output_type": "stream",
          "text": [
            "KRR solver initialised.\n",
            "Training completed.\n"
          ],
          "name": "stdout"
        }
      ]
    },
    {
      "cell_type": "markdown",
      "metadata": {
        "id": "ImWghlcoR7HK"
      },
      "source": [
        "The evaluation function computes the distance between each validation sample $T_i$ and the training ones $M_i$:\n",
        "\n",
        "$$ D_{ij} =  d(T_{i}, M_{j}) $$\n",
        "\n",
        "The predicted energies $E\\left(T\\right)$ are then given by:\n",
        "\n",
        "$$ E\\left( T \\right) = E\\left( M \\right) \\cdot K^{-1} \\cdot D^T $$"
      ]
    },
    {
      "cell_type": "code",
      "metadata": {
        "id": "q0_5gCT6R7HL",
        "outputId": "11610de7-d302-4d46-d34d-deec1e681a58",
        "colab": {
          "base_uri": "https://localhost:8080/",
          "height": 558
        }
      },
      "source": [
        "# get a list of predicted outputs for the validation inputs\n",
        "predict = solver.Evaluate(validIn)\n",
        "\n",
        "print(\"Mean Abs Error (validation): \" + str((numpy.abs(predict-validOut)).mean()))\n",
        "\n",
        "# do the regression plot\n",
        "plt.plot(validOut, predict, 'o')\n",
        "plt.plot([numpy.min(validOut),numpy.max(validOut)], [numpy.min(validOut),numpy.max(validOut)], '-')\n",
        "plt.xlabel('correct output')\n",
        "plt.ylabel('KRR output')\n",
        "plt.show()\n",
        "\n",
        "# check the distribution of energies in the training set\n",
        "plt.hist(validOut, bins=20, density=True, alpha=0.5, facecolor='gray')\n",
        "plt.hist(trainOut, bins=20, density=True, alpha=0.2, facecolor='red')\n",
        "plt.xlabel(\"Energy [H]\")\n",
        "plt.ylabel(\"Probability\")\n",
        "plt.show()"
      ],
      "execution_count": 59,
      "outputs": [
        {
          "output_type": "stream",
          "text": [
            "Mean Abs Error (validation): 0.7001497583261415\n"
          ],
          "name": "stdout"
        },
        {
          "output_type": "display_data",
          "data": {
            "image/png": "[encoded data removed]",
            "text/plain": [
              "<Figure size 432x288 with 1 Axes>"
            ]
          },
          "metadata": {
            "tags": [],
            "needs_background": "light"
          }
        },
        {
          "output_type": "display_data",
          "data": {
            "image/png": "[encoded data removed]",
            "text/plain": [
              "<Figure size 432x288 with 1 Axes>"
            ]
          },
          "metadata": {
            "tags": [],
            "needs_background": "light"
          }
        }
      ]
    },
    {
      "cell_type": "markdown",
      "metadata": {
        "id": "SvXlftwdR7HL"
      },
      "source": [
        "# Exercises"
      ]
    },
    {
      "cell_type": "markdown",
      "metadata": {
        "id": "3mD-q5coR7HM"
      },
      "source": [
        "### 1. Compare descriptors\n",
        "\n",
        "Using the same training and validation set size, find which descriptor gives the smallest error."
      ]
    },
    {
      "cell_type": "code",
      "metadata": {
        "id": "yt68jH_kR7HM"
      },
      "source": [
        ""
      ],
      "execution_count": null,
      "outputs": []
    },
    {
      "cell_type": "markdown",
      "metadata": {
        "id": "L-DLCHMUR7HM"
      },
      "source": [
        "### 2. Training set size\n",
        "\n",
        "Choose a descriptor and investigate the effects of training set size on the quality of the model."
      ]
    },
    {
      "cell_type": "code",
      "metadata": {
        "id": "EMDyJj6_R7HN"
      },
      "source": [
        ""
      ],
      "execution_count": null,
      "outputs": []
    },
    {
      "cell_type": "markdown",
      "metadata": {
        "id": "OhnwveP0R7HN"
      },
      "source": [
        "### 3. Combine with Principal Component Analysis - Advanced\n",
        "Reduce the descriptor size with PCA (check the PCA.ipynb notebook) and train again. Can you get similar accuracy with a reduced input size?"
      ]
    },
    {
      "cell_type": "code",
      "metadata": {
        "id": "SGxC9cDMR7HN"
      },
      "source": [
        ""
      ],
      "execution_count": null,
      "outputs": []
    }
  ]
}
