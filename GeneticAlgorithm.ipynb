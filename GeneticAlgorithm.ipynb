{
  "nbformat": 4,
  "nbformat_minor": 0,
  "metadata": {
    "kernelspec": {
      "display_name": "Python 3",
      "language": "python",
      "name": "python3"
    },
    "language_info": {
      "codemirror_mode": {
        "name": "ipython",
        "version": 3
      },
      "file_extension": ".py",
      "mimetype": "text/x-python",
      "name": "python",
      "nbconvert_exporter": "python",
      "pygments_lexer": "ipython3",
      "version": "3.5.2"
    },
    "colab": {
      "name": "GeneticAlgorithm.ipynb",
      "provenance": []
    }
  },
  "cells": [
    {
      "cell_type": "markdown",
      "metadata": {
        "collapsed": true,
        "id": "VK6i1AvfN0wb"
      },
      "source": [
        "# Genetic Algorithm\n",
        "\n",
        "GA is a simple optimisation algorithm that mimics evolution. It starts with a random population of elements, and evaluates how <i>fit for survival</i> they are. Elements are then randomly selected in pairs to mate and produce a new generation of offspring. The selection ensures that elements with higher fitness are more likely to be chosen for mating, thus increasing the chances that their offspring retains the characteristics that made their parents fit in the first place. Random mutation can also appear.\n",
        "\n",
        "If an optimisation problem is too complex to be solved via gradient methods, GA can still give an answer.\n",
        "\n",
        "In this tutorial we are going to use GA to find a set of parameters that fit a signal.<br>\n",
        "More details about the GA are given in the following sections."
      ]
    },
    {
      "cell_type": "code",
      "metadata": {
        "id": "hPd-qGIjN0wd",
        "outputId": "c72dec81-08f0-412b-fa1b-e1ebee6fdac9",
        "colab": {
          "base_uri": "https://localhost:8080/"
        }
      },
      "source": [
        "#resolve GA dependency\n",
        "import os\n",
        "import os.path\n",
        "if os.path.exists('GA.py'):\n",
        "    pass\n",
        "else:\n",
        "    !wget https://raw.githubusercontent.com/reinimaurer1/ML-CSC-tutorial/master/GA.py\n",
        "    !wget https://github.com/reinimaurer1/ML-CSC-tutorial/raw/master/data/ga-train-Y.npy\n",
        "    !wget https://github.com/reinimaurer1/ML-CSC-tutorial/raw/master/data/ga-train-T.npy\n",
        "# IMPORTS\n",
        "\n",
        "import math\n",
        "import random\n",
        "import numpy\n",
        "from GA import GAEngine\n",
        "import matplotlib.pyplot as plt"
      ],
      "execution_count": 15,
      "outputs": [
        {
          "output_type": "stream",
          "text": [
            "--2021-08-04 08:27:13--  https://raw.githubusercontent.com/reinimaurer1/ML-CSC-tutorial/master/GA.py\n",
            "Resolving raw.githubusercontent.com (raw.githubusercontent.com)... 185.199.108.133, 185.199.109.133, 185.199.110.133, ...\n",
            "Connecting to raw.githubusercontent.com (raw.githubusercontent.com)|185.199.108.133|:443... connected.\n",
            "HTTP request sent, awaiting response... 200 OK\n",
            "Length: 3095 (3.0K) [text/plain]\n",
            "Saving to: ‘GA.py’\n",
            "\n",
            "\rGA.py                 0%[                    ]       0  --.-KB/s               \rGA.py               100%[===================>]   3.02K  --.-KB/s    in 0s      \n",
            "\n",
            "2021-08-04 08:27:13 (37.7 MB/s) - ‘GA.py’ saved [3095/3095]\n",
            "\n",
            "--2021-08-04 08:27:13--  https://github.com/reinimaurer1/ML-CSC-tutorial/raw/master/data/ga-train-Y.npy\n",
            "Resolving github.com (github.com)... 140.82.113.4\n",
            "Connecting to github.com (github.com)|140.82.113.4|:443... connected.\n",
            "HTTP request sent, awaiting response... 302 Found\n",
            "Location: https://raw.githubusercontent.com/reinimaurer1/ML-CSC-tutorial/master/data/ga-train-Y.npy [following]\n",
            "--2021-08-04 08:27:13--  https://raw.githubusercontent.com/reinimaurer1/ML-CSC-tutorial/master/data/ga-train-Y.npy\n",
            "Resolving raw.githubusercontent.com (raw.githubusercontent.com)... 185.199.108.133, 185.199.109.133, 185.199.110.133, ...\n",
            "Connecting to raw.githubusercontent.com (raw.githubusercontent.com)|185.199.108.133|:443... connected.\n",
            "HTTP request sent, awaiting response... 200 OK\n",
            "Length: 880 [application/octet-stream]\n",
            "Saving to: ‘ga-train-Y.npy.2’\n",
            "\n",
            "ga-train-Y.npy.2    100%[===================>]     880  --.-KB/s    in 0s      \n",
            "\n",
            "2021-08-04 08:27:13 (38.4 MB/s) - ‘ga-train-Y.npy.2’ saved [880/880]\n",
            "\n",
            "--2021-08-04 08:27:13--  https://github.com/reinimaurer1/ML-CSC-tutorial/raw/master/data/ga-train-T.npy\n",
            "Resolving github.com (github.com)... 140.82.113.3\n",
            "Connecting to github.com (github.com)|140.82.113.3|:443... connected.\n",
            "HTTP request sent, awaiting response... 302 Found\n",
            "Location: https://raw.githubusercontent.com/reinimaurer1/ML-CSC-tutorial/master/data/ga-train-T.npy [following]\n",
            "--2021-08-04 08:27:13--  https://raw.githubusercontent.com/reinimaurer1/ML-CSC-tutorial/master/data/ga-train-T.npy\n",
            "Resolving raw.githubusercontent.com (raw.githubusercontent.com)... 185.199.108.133, 185.199.109.133, 185.199.111.133, ...\n",
            "Connecting to raw.githubusercontent.com (raw.githubusercontent.com)|185.199.108.133|:443... connected.\n",
            "HTTP request sent, awaiting response... 200 OK\n",
            "Length: 880 [application/octet-stream]\n",
            "Saving to: ‘ga-train-T.npy.2’\n",
            "\n",
            "ga-train-T.npy.2    100%[===================>]     880  --.-KB/s    in 0s      \n",
            "\n",
            "2021-08-04 08:27:14 (32.0 MB/s) - ‘ga-train-T.npy.2’ saved [880/880]\n",
            "\n"
          ],
          "name": "stdout"
        }
      ]
    },
    {
      "cell_type": "markdown",
      "metadata": {
        "id": "_l2Aif-FN0we"
      },
      "source": [
        "## Definition of the problem\n",
        "We are given an compound oscillatory signal $W(t)$ at given times and we would like to find its components. We are too primitive to use FFT or non-linear fitting. We are dumb and strong, so we brute-force it!"
      ]
    },
    {
      "cell_type": "markdown",
      "metadata": {
        "collapsed": true,
        "id": "-K78J9mJN0we"
      },
      "source": [
        "## Definition of element\n",
        "\n",
        "Each $i$-th element of the genetic population represents a possible candidate signal $W_i(t) = \\sum_{k=1}^n A_k \\cos\\left( 2\\pi k t\\right)$. Thus, the element can be represented by the list of amplitudes for each wave component: $\\mathbf{e} = \\{ A_1, A_2, ... A_n\\}$.\n",
        "\n",
        "The training set is a collection of $\\left( t,W(t) \\right)$ points corresponding to the signal we are trying to fit."
      ]
    },
    {
      "cell_type": "code",
      "metadata": {
        "id": "TP_mA0NUN0wf",
        "outputId": "337691d3-0098-41fb-d008-413f9c6a2857",
        "colab": {
          "base_uri": "https://localhost:8080/",
          "height": 316
        }
      },
      "source": [
        "# set a decent population size to work with\n",
        "populationSize = 100\n",
        "\n",
        "# set the amount of plane waves\n",
        "nWaves = 5\n",
        "\n",
        "# limit amplitudes to [-2, 2]\n",
        "scale = 2.0\n",
        "\n",
        "# create a GA engine\n",
        "ga = GAEngine(popSize=populationSize, dnaSize=nWaves, scale=scale)\n",
        "\n",
        "ga.tau = 0.1\n",
        "\n",
        "# print the first 3 elements to see what we are dealing with!\n",
        "print(ga.population[0:3])\n",
        "\n",
        "# load a training set\n",
        "trainT = numpy.load(\"ga-train-T.npy\") # time values\n",
        "trainY = numpy.load(\"ga-train-Y.npy\") # corresponding signal values\n",
        "\n",
        "# plot the training set\n",
        "plt.plot(trainT, trainY, 'o')\n",
        "plt.show()"
      ],
      "execution_count": 16,
      "outputs": [
        {
          "output_type": "stream",
          "text": [
            "[[ 1.33564592  0.73001431  0.33759851 -1.25772932 -1.0279217 ]\n",
            " [ 1.32937874  1.9328393  -0.12190019 -0.83787276 -0.90917771]\n",
            " [-1.26419402 -1.36507861  0.67696366 -1.75331188  0.26288343]]\n"
          ],
          "name": "stdout"
        },
        {
          "output_type": "display_data",
          "data": {
            "image/png": "[encoded data removed]",
            "text/plain": [
              "<Figure size 432x288 with 1 Axes>"
            ]
          },
          "metadata": {
            "tags": [],
            "needs_background": "light"
          }
        }
      ]
    },
    {
      "cell_type": "markdown",
      "metadata": {
        "collapsed": true,
        "id": "rDSm7NzWN0wg"
      },
      "source": [
        "##### Mixing elements\n",
        "\n",
        "After the population is evaluated, all elements are sorted by descending fitness (best fit first). Pairs of elements are selected at random by their index, using an exponential distribution, and mixed to produce an offspring population.\n",
        "The simplest mixing function would be the one that assign each DNA component of the offspring from either parent at \n",
        "random. This function is already defined in the GAEngine.\n",
        "\n",
        "We can control the PDF for the selection using one parameter:"
      ]
    },
    {
      "cell_type": "code",
      "metadata": {
        "id": "0xzoJBmyN0wg",
        "outputId": "80cd5ece-571e-49bd-df58-34cbd3e617d8",
        "colab": {
          "base_uri": "https://localhost:8080/",
          "height": 279
        }
      },
      "source": [
        "ga.tau = 1\n",
        "selected = ga.TrySelection(10000)\n",
        "plt.hist(selected, populationSize, density=True)\n",
        "plt.xlabel('element index')\n",
        "plt.ylabel('Probability')\n",
        "plt.show()"
      ],
      "execution_count": 17,
      "outputs": [
        {
          "output_type": "display_data",
          "data": {
            "image/png": "[encoded data removed]",
            "text/plain": [
              "<Figure size 432x288 with 1 Axes>"
            ]
          },
          "metadata": {
            "tags": [],
            "needs_background": "light"
          }
        }
      ]
    },
    {
      "cell_type": "markdown",
      "metadata": {
        "id": "XD98xHDDN0wh"
      },
      "source": [
        "Large values of $\\tau$ will cause elements with low fitness to be almost never selected. This will make the GA \"converge\" faster, halting evolution.\n",
        "\n",
        "Small values of $\\tau$ will eventually give equal chance to all elements regardless of their fitness. This will slow down the evolution.\n",
        "\n",
        "You will have to find a good compromise!"
      ]
    },
    {
      "cell_type": "markdown",
      "metadata": {
        "collapsed": true,
        "id": "ZUxQXRpqN0wi"
      },
      "source": [
        "##### Mutating elements\n",
        "\n",
        "Occasionally, mutation can appear when mixing two elements. There are several ways to implement mutations, but here we stick to simplicity. A mutation adds a random value to one random gene of the element. <br>\n",
        "Mutations should be rare or they will mess up the evolution!"
      ]
    },
    {
      "cell_type": "code",
      "metadata": {
        "id": "lRTcUx2aN0wj"
      },
      "source": [
        "# set the mutation rate\n",
        "ga.mutationRate = 0.01 # this means 1% of the elements will get it"
      ],
      "execution_count": 18,
      "outputs": []
    },
    {
      "cell_type": "markdown",
      "metadata": {
        "collapsed": true,
        "id": "ZrhCIH5FN0wk"
      },
      "source": [
        "##### Evaluating fitness\n",
        "\n",
        "This function takes in the element descriptor, performs the calculations necessary to estimate how well it performs, and returns its fitness.<br>\n",
        "It is actually easy to calculate its badness (mean square error) and flip the sign. This way, the perfect element will have 0 fitness, while any mismatch with the training will give a negative value."
      ]
    },
    {
      "cell_type": "code",
      "metadata": {
        "id": "luAVlZmoN0wk"
      },
      "source": [
        "def EvaluateFitness(element):\n",
        "\n",
        "    # prepare a 0 array\n",
        "    y = numpy.zeros(len(trainT))\n",
        "    freq = 1 # starting frequency\n",
        "    \n",
        "    for amp in element: # loop through the amplitudes\n",
        "        y += amp * numpy.cos(2*numpy.pi*freq*trainT) # add the wave\n",
        "        freq += 1 # increment the frequency for the next wave\n",
        "    \n",
        "    # compute square error\n",
        "    y = (y-trainY)*(y-trainY)\n",
        "    \n",
        "    return -numpy.mean(y)\n",
        "\n",
        "# tell the engine to use this evaluation function\n",
        "ga.Evaluate = EvaluateFitness"
      ],
      "execution_count": 19,
      "outputs": []
    },
    {
      "cell_type": "markdown",
      "metadata": {
        "id": "6ahlMBYeN0wl"
      },
      "source": [
        "##### Evolving...\n",
        "\n",
        "Let the population evolve!"
      ]
    },
    {
      "cell_type": "code",
      "metadata": {
        "id": "0gC9KazpN0wl",
        "outputId": "7bebfac2-9f86-4a53-d51a-958275ab946f",
        "colab": {
          "base_uri": "https://localhost:8080/"
        }
      },
      "source": [
        "# number of generations to compute\n",
        "nGens = 30\n",
        "\n",
        "stats = numpy.zeros((nGens,3))\n",
        "\n",
        "# start the evolution loop!\n",
        "for g in range(nGens):\n",
        "    stats[g] = ga.Evolve()"
      ],
      "execution_count": 20,
      "outputs": [
        {
          "output_type": "stream",
          "text": [
            "generation[0] fitness: best -0.4832648419812755, avg -3.691163359965617, worse -8.682922705215653\n",
            "generation[1] fitness: best -0.979780288690028, avg -3.4953588755636615, worse -8.37493468274089\n",
            "generation[2] fitness: best -0.524063162141791, avg -3.089050872796814, worse -7.54186852161268\n",
            "generation[3] fitness: best -0.645728212223134, avg -2.642379691328993, worse -6.567404206733342\n",
            "generation[4] fitness: best -0.1457884210001886, avg -2.0583539026922604, worse -5.993865136694937\n",
            "generation[5] fitness: best -0.33909607616890974, avg -1.8469642862179134, worse -5.208754167180582\n",
            "generation[6] fitness: best -0.23796937247169161, avg -1.588899458678205, worse -4.930657035647892\n",
            "generation[7] fitness: best -0.19113847640756043, avg -1.293257108885668, worse -4.251652919215783\n",
            "generation[8] fitness: best -0.06765846387367161, avg -1.1221324298310549, worse -3.350104434231788\n",
            "generation[9] fitness: best -0.12152615422796945, avg -1.0007795829762012, worse -2.743459996931745\n",
            "generation[10] fitness: best -0.10422036532550395, avg -0.902403382864165, worse -3.485544295037916\n",
            "generation[11] fitness: best -0.08391692555383777, avg -0.7055228590756885, worse -2.079454658262582\n",
            "generation[12] fitness: best -0.10869936212571135, avg -0.6201650206806819, worse -1.7605640893657621\n",
            "generation[13] fitness: best -0.08956879749341408, avg -0.48780320447873665, worse -1.3848149662219738\n",
            "generation[14] fitness: best -0.056550376407216406, avg -0.40648375532717507, worse -1.538413361934\n",
            "generation[15] fitness: best -0.053174693831571584, avg -0.3246230245354345, worse -1.1817242096770466\n",
            "generation[16] fitness: best -0.0585474679287391, avg -0.29325253258336953, worse -1.0154242971924958\n",
            "generation[17] fitness: best -0.04133324444610146, avg -0.2612253670999593, worse -1.013994579679121\n",
            "generation[18] fitness: best -0.04133324444610146, avg -0.20973997283983362, worse -0.7934190108185323\n",
            "generation[19] fitness: best -0.04495567586990318, avg -0.1702581562793582, worse -0.8077104609833412\n",
            "generation[20] fitness: best -0.03646414639312078, avg -0.1500546287459843, worse -0.8149919556928351\n",
            "generation[21] fitness: best -0.04495567586990318, avg -0.11870051654175517, worse -0.8077104609833412\n",
            "generation[22] fitness: best -0.03646414639312078, avg -0.08491926483622268, worse -0.22510695526617816\n",
            "generation[23] fitness: best -0.03646414639312078, avg -0.07842806406518003, worse -0.20575729637336046\n",
            "generation[24] fitness: best -0.03646414639312078, avg -0.07053855314869233, worse -0.1596994519758821\n",
            "generation[25] fitness: best -0.03646414639312078, avg -0.06427747589133462, worse -0.1606475812214349\n",
            "generation[26] fitness: best -0.03646414639312078, avg -0.06164011181988747, worse -0.1568565612772363\n",
            "generation[27] fitness: best -0.03602259071066929, avg -0.05204809588054342, worse -0.09787414639569764\n",
            "generation[28] fitness: best -0.03602259071066929, avg -0.04799947718337801, worse -0.09428074909629272\n",
            "generation[29] fitness: best -0.03602259071066929, avg -0.04502065347416607, worse -0.08110488599028827\n"
          ],
          "name": "stdout"
        }
      ]
    },
    {
      "cell_type": "code",
      "metadata": {
        "id": "uktjdFRaN0wm",
        "outputId": "b24e573a-180d-442b-cff3-a5908723da38",
        "colab": {
          "base_uri": "https://localhost:8080/",
          "height": 265
        }
      },
      "source": [
        "# evolution plot\n",
        "plt.plot(stats[:,0],'o-', label='best')\n",
        "plt.plot(stats[:,1],'o-', label='average')\n",
        "plt.plot(stats[:,2],'o-', label='worst')\n",
        "plt.legend()\n",
        "plt.show()"
      ],
      "execution_count": 21,
      "outputs": [
        {
          "output_type": "display_data",
          "data": {
            "image/png": "[encoded data removed]",
            "text/plain": [
              "<Figure size 432x288 with 1 Axes>"
            ]
          },
          "metadata": {
            "tags": [],
            "needs_background": "light"
          }
        }
      ]
    },
    {
      "cell_type": "code",
      "metadata": {
        "id": "y4WGceyLN0wm",
        "outputId": "38d46ccd-752b-4ef3-c650-a348b1e0a6e8",
        "colab": {
          "base_uri": "https://localhost:8080/",
          "height": 299
        }
      },
      "source": [
        "# best element info\n",
        "print(\"best model amplitudes:\", ga.best)\n",
        "print(\"best model fitness:\", ga.bestFit)\n",
        "t = numpy.arange(0,1,0.01)\n",
        "y = t * 0\n",
        "freq = 1 # starting frequency\n",
        "\n",
        "for amp in ga.best: # loop through the amplitudes\n",
        "    y += amp * numpy.cos(2*numpy.pi*freq*t) # add the wave\n",
        "    freq += 1 # increment the frequency for the next wave\n",
        "        \n",
        "plt.plot(trainT, trainY, 'o', label='training points')\n",
        "plt.plot(t, y, '-', label='best model')\n",
        "plt.legend()\n",
        "plt.show()\n"
      ],
      "execution_count": 22,
      "outputs": [
        {
          "output_type": "stream",
          "text": [
            "best model amplitudes: [ 0.84438943 -0.08743837 -0.00865067  0.47168171  0.32568701]\n",
            "best model fitness: -0.03602259071066929\n"
          ],
          "name": "stdout"
        },
        {
          "output_type": "display_data",
          "data": {
            "image/png": "[encoded data removed]",
            "text/plain": [
              "<Figure size 432x288 with 1 Axes>"
            ]
          },
          "metadata": {
            "tags": [],
            "needs_background": "light"
          }
        }
      ]
    },
    {
      "cell_type": "markdown",
      "metadata": {
        "id": "ASEWyIc5N0wm"
      },
      "source": [
        "##### Final remarks\n",
        "Do not be fooled by the speed of this example... in real applications, training an AI with GA can take up to several weeks on supercomputers.<br>\n",
        "You can see one in action <a href=\"http://www.nanolayers.com/nano_copter.php\">here!</a> Try to beat it!"
      ]
    },
    {
      "cell_type": "markdown",
      "metadata": {
        "collapsed": true,
        "id": "QaoZBmu3N0wm"
      },
      "source": [
        "## Beast Exercise\n",
        "\n",
        "Train neural networks to output the energy of a molecule using ACSFs as input. \n",
        "There should be one network for each atom type and ACSF contribution. For example, all H atoms will have 5 NNs that process the ACSFs calculated for that atom with respect to C, N, O, or F atoms.\n",
        "Additionally there will be NNs for the 3-body parts: H-HH, H-HC, H-HN, ... total 15 NNs\n",
        "In total, each atom type should have 5 + 15 = 20 NNs, giving a total of 100 NNs and lots of parameters to train!\n",
        "\n",
        "Some serious python hacking is required!\n"
      ]
    },
    {
      "cell_type": "code",
      "metadata": {
        "id": "5XMrrtA8N0wm"
      },
      "source": [
        "# load structures and energies from the database\n",
        "# the file is data/structures.xyz and it contains lots of molecules in the following xyz format:\n",
        "# \n",
        "# natoms_mol1\n",
        "# energy_mol1\n",
        "# type1 x y z\n",
        "# type2 x y z\n",
        "# ...\n",
        "# natoms_mol2\n",
        "# energy_mol2\n",
        "# type1 x y z\n",
        "# ...\n",
        "#"
      ],
      "execution_count": null,
      "outputs": []
    },
    {
      "cell_type": "code",
      "metadata": {
        "id": "8D53_J8RN0wn"
      },
      "source": [
        "# use DScribe to compute ACSFs\n",
        "# ...\n",
        "\n",
        "# the ACSFs should be divided into their logical contributions (x-H, x-C, ... x-HH, x-HC, ...)\n",
        "# the length of each contribution "
      ],
      "execution_count": null,
      "outputs": []
    },
    {
      "cell_type": "code",
      "metadata": {
        "id": "DW7N9VJEN0wn"
      },
      "source": [
        "from sklearn.neural_network import MLPRegressor\n",
        "\n",
        "# setup model networks for all possible atoms\n",
        "# there are only H, C, N, O, F atoms in the database\n",
        "#\n",
        "# H -> H (2-body)\n",
        "# H -> C (2-body)\n",
        "# ...\n",
        "# H -> H-H (3-body)\n",
        "# H -> H-C (3-body) (no need for H -> C-H, it is symmetric!)\n",
        "# ..."
      ],
      "execution_count": null,
      "outputs": []
    },
    {
      "cell_type": "code",
      "metadata": {
        "id": "mglltNNmN0wn"
      },
      "source": [
        "# sklearn network weights and neuron biases are stored in\n",
        "# model.coefs_ and model.intercepts_\n",
        "# these are assigned only after calling model.fit(x, y), does not matter if the training succeeded\n",
        "# as long as x,y have the correct shape\n",
        "#\n",
        "# the GA DNA is the concatenation of all these numbers\n",
        "# \n",
        "# calculate the total length of the DNA\n",
        "# ...\n",
        "\n",
        "# write a function that converts the DNA (list of numbers) into a set of model.coefs_ and \n",
        "# model.intercepts_ for a sklearn model\n",
        "# ...\n",
        "\n",
        "# write an evaluation function for the fitness of a GA element\n",
        "# ...\n",
        "\n",
        "# evolve the population\n",
        "# ..."
      ],
      "execution_count": null,
      "outputs": []
    }
  ]
}