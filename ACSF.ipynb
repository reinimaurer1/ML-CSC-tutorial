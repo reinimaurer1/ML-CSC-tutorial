{
  "nbformat": 4,
  "nbformat_minor": 0,
  "metadata": {
    "kernelspec": {
      "display_name": "Python 3",
      "language": "python",
      "name": "python3"
    },
    "language_info": {
      "codemirror_mode": {
        "name": "ipython",
        "version": 3
      },
      "file_extension": ".py",
      "mimetype": "text/x-python",
      "name": "python",
      "nbconvert_exporter": "python",
      "pygments_lexer": "ipython3",
      "version": "3.5.2"
    },
    "colab": {
      "name": "ACSF.ipynb",
      "provenance": []
    }
  },
  "cells": [
    {
      "cell_type": "markdown",
      "metadata": {
        "id": "QfxmSxZQb0uL"
      },
      "source": [
        "# Atom Centered Symmetry Functions\n",
        "\n",
        "ACSFs are a convenient way of transforming atomic coortinates and types into a computer-friendly string of numbers. Each atom gets its own set of ACSFs, computed using itself as the center, and all other atomic coordinates, which encode its chemical environment.<br>\n",
        "<img src=\"https://github.com/reinimaurer1/ML-CSC-tutorial/blob/master/images/acsf-schema.png?raw=1\" width=\"400px\"><br>\n",
        "The ACSFs are invariant under translation and rotations of the whole system, and independent on the ordering of the atoms.\n",
        "\n",
        "The two main type of ACSFs are two- and three-body. Each set of ACSFs becomes the input of a neural network that calculates the corresponding energy contribution. The only important quantity is the total energy of the system, given by the sum of all contributions. All neural networks are fitted to minimise the error on total energy.\n",
        "\n",
        "Derivatives of the energy w.r.t. atomic positions (forces) can be obtained analytically with the chain rule, and this makes ACSF the method of choice for molecular dynamics simulations.\n",
        "\n",
        "For more info see: Jörg Behler, <i>J. Chem. Phys.</i> <b>134</b>, 074106 (2011)"
      ]
    },
    {
      "cell_type": "markdown",
      "metadata": {
        "id": "b86OGBKFb0uP"
      },
      "source": [
        "## How it works\n",
        "\n",
        "We are going to see ACSFs in action for a simple trimer system."
      ]
    },
    {
      "cell_type": "code",
      "metadata": {
        "scrolled": false,
        "id": "rfStodCrb0uQ",
        "outputId": "cb1446b1-e8c0-4360-e838-74e299c73600",
        "colab": {
          "base_uri": "https://localhost:8080/"
        }
      },
      "source": [
        "!pip install ase\n",
        "!pip install nglview\n",
        "# --- INITIAL DEFINITIONS ---\n",
        "from sklearn.neural_network import MLPRegressor\n",
        "import numpy, math, random\n",
        "import matplotlib.pyplot as plt\n",
        "from mpl_toolkits.mplot3d import Axes3D\n",
        "from ase.visualize import view\n",
        "from ase import Atoms\n",
        "import nglview"
      ],
      "execution_count": 12,
      "outputs": [
        {
          "output_type": "stream",
          "text": [
            "Requirement already satisfied: ase in /usr/local/lib/python3.7/dist-packages (3.22.0)\n",
            "Requirement already satisfied: matplotlib>=3.1.0 in /usr/local/lib/python3.7/dist-packages (from ase) (3.2.2)\n",
            "Requirement already satisfied: scipy>=1.1.0 in /usr/local/lib/python3.7/dist-packages (from ase) (1.4.1)\n",
            "Requirement already satisfied: numpy>=1.15.0 in /usr/local/lib/python3.7/dist-packages (from ase) (1.19.5)\n",
            "Requirement already satisfied: pyparsing!=2.0.4,!=2.1.2,!=2.1.6,>=2.0.1 in /usr/local/lib/python3.7/dist-packages (from matplotlib>=3.1.0->ase) (2.4.7)\n",
            "Requirement already satisfied: kiwisolver>=1.0.1 in /usr/local/lib/python3.7/dist-packages (from matplotlib>=3.1.0->ase) (1.3.1)\n",
            "Requirement already satisfied: cycler>=0.10 in /usr/local/lib/python3.7/dist-packages (from matplotlib>=3.1.0->ase) (0.10.0)\n",
            "Requirement already satisfied: python-dateutil>=2.1 in /usr/local/lib/python3.7/dist-packages (from matplotlib>=3.1.0->ase) (2.8.1)\n",
            "Requirement already satisfied: six in /usr/local/lib/python3.7/dist-packages (from cycler>=0.10->matplotlib>=3.1.0->ase) (1.15.0)\n",
            "Collecting nglview\n",
            "  Downloading nglview-3.0.3.tar.gz (5.7 MB)\n",
            "\u001b[K     |████████████████████████████████| 5.7 MB 4.3 MB/s \n",
            "\u001b[?25h  Installing build dependencies ... \u001b[?25l\u001b[?25hdone\n",
            "  Getting requirements to build wheel ... \u001b[?25l\u001b[?25hdone\n",
            "    Preparing wheel metadata ... \u001b[?25l\u001b[?25hdone\n",
            "Requirement already satisfied: jupyterlab-widgets in /usr/local/lib/python3.7/dist-packages (from nglview) (1.0.0)\n",
            "Requirement already satisfied: numpy in /usr/local/lib/python3.7/dist-packages (from nglview) (1.19.5)\n",
            "Requirement already satisfied: ipywidgets>=7 in /usr/local/lib/python3.7/dist-packages (from nglview) (7.6.3)\n",
            "Requirement already satisfied: ipykernel>=4.5.1 in /usr/local/lib/python3.7/dist-packages (from ipywidgets>=7->nglview) (4.10.1)\n",
            "Requirement already satisfied: nbformat>=4.2.0 in /usr/local/lib/python3.7/dist-packages (from ipywidgets>=7->nglview) (5.1.3)\n",
            "Requirement already satisfied: ipython>=4.0.0 in /usr/local/lib/python3.7/dist-packages (from ipywidgets>=7->nglview) (5.5.0)\n",
            "Requirement already satisfied: widgetsnbextension~=3.5.0 in /usr/local/lib/python3.7/dist-packages (from ipywidgets>=7->nglview) (3.5.1)\n",
            "Requirement already satisfied: traitlets>=4.3.1 in /usr/local/lib/python3.7/dist-packages (from ipywidgets>=7->nglview) (5.0.5)\n",
            "Requirement already satisfied: jupyter-client in /usr/local/lib/python3.7/dist-packages (from ipykernel>=4.5.1->ipywidgets>=7->nglview) (5.3.5)\n",
            "Requirement already satisfied: tornado>=4.0 in /usr/local/lib/python3.7/dist-packages (from ipykernel>=4.5.1->ipywidgets>=7->nglview) (5.1.1)\n",
            "Requirement already satisfied: setuptools>=18.5 in /usr/local/lib/python3.7/dist-packages (from ipython>=4.0.0->ipywidgets>=7->nglview) (57.2.0)\n",
            "Requirement already satisfied: pexpect in /usr/local/lib/python3.7/dist-packages (from ipython>=4.0.0->ipywidgets>=7->nglview) (4.8.0)\n",
            "Requirement already satisfied: prompt-toolkit<2.0.0,>=1.0.4 in /usr/local/lib/python3.7/dist-packages (from ipython>=4.0.0->ipywidgets>=7->nglview) (1.0.18)\n",
            "Requirement already satisfied: pickleshare in /usr/local/lib/python3.7/dist-packages (from ipython>=4.0.0->ipywidgets>=7->nglview) (0.7.5)\n",
            "Requirement already satisfied: pygments in /usr/local/lib/python3.7/dist-packages (from ipython>=4.0.0->ipywidgets>=7->nglview) (2.6.1)\n",
            "Requirement already satisfied: simplegeneric>0.8 in /usr/local/lib/python3.7/dist-packages (from ipython>=4.0.0->ipywidgets>=7->nglview) (0.8.1)\n",
            "Requirement already satisfied: decorator in /usr/local/lib/python3.7/dist-packages (from ipython>=4.0.0->ipywidgets>=7->nglview) (4.4.2)\n",
            "Requirement already satisfied: jsonschema!=2.5.0,>=2.4 in /usr/local/lib/python3.7/dist-packages (from nbformat>=4.2.0->ipywidgets>=7->nglview) (2.6.0)\n",
            "Requirement already satisfied: jupyter-core in /usr/local/lib/python3.7/dist-packages (from nbformat>=4.2.0->ipywidgets>=7->nglview) (4.7.1)\n",
            "Requirement already satisfied: ipython-genutils in /usr/local/lib/python3.7/dist-packages (from nbformat>=4.2.0->ipywidgets>=7->nglview) (0.2.0)\n",
            "Requirement already satisfied: wcwidth in /usr/local/lib/python3.7/dist-packages (from prompt-toolkit<2.0.0,>=1.0.4->ipython>=4.0.0->ipywidgets>=7->nglview) (0.2.5)\n",
            "Requirement already satisfied: six>=1.9.0 in /usr/local/lib/python3.7/dist-packages (from prompt-toolkit<2.0.0,>=1.0.4->ipython>=4.0.0->ipywidgets>=7->nglview) (1.15.0)\n",
            "Requirement already satisfied: notebook>=4.4.1 in /usr/local/lib/python3.7/dist-packages (from widgetsnbextension~=3.5.0->ipywidgets>=7->nglview) (5.3.1)\n",
            "Requirement already satisfied: terminado>=0.8.1 in /usr/local/lib/python3.7/dist-packages (from notebook>=4.4.1->widgetsnbextension~=3.5.0->ipywidgets>=7->nglview) (0.10.1)\n",
            "Requirement already satisfied: nbconvert in /usr/local/lib/python3.7/dist-packages (from notebook>=4.4.1->widgetsnbextension~=3.5.0->ipywidgets>=7->nglview) (5.6.1)\n",
            "Requirement already satisfied: Send2Trash in /usr/local/lib/python3.7/dist-packages (from notebook>=4.4.1->widgetsnbextension~=3.5.0->ipywidgets>=7->nglview) (1.7.1)\n",
            "Requirement already satisfied: jinja2 in /usr/local/lib/python3.7/dist-packages (from notebook>=4.4.1->widgetsnbextension~=3.5.0->ipywidgets>=7->nglview) (2.11.3)\n",
            "Requirement already satisfied: python-dateutil>=2.1 in /usr/local/lib/python3.7/dist-packages (from jupyter-client->ipykernel>=4.5.1->ipywidgets>=7->nglview) (2.8.1)\n",
            "Requirement already satisfied: pyzmq>=13 in /usr/local/lib/python3.7/dist-packages (from jupyter-client->ipykernel>=4.5.1->ipywidgets>=7->nglview) (22.1.0)\n",
            "Requirement already satisfied: ptyprocess in /usr/local/lib/python3.7/dist-packages (from terminado>=0.8.1->notebook>=4.4.1->widgetsnbextension~=3.5.0->ipywidgets>=7->nglview) (0.7.0)\n",
            "Requirement already satisfied: MarkupSafe>=0.23 in /usr/local/lib/python3.7/dist-packages (from jinja2->notebook>=4.4.1->widgetsnbextension~=3.5.0->ipywidgets>=7->nglview) (2.0.1)\n",
            "Requirement already satisfied: mistune<2,>=0.8.1 in /usr/local/lib/python3.7/dist-packages (from nbconvert->notebook>=4.4.1->widgetsnbextension~=3.5.0->ipywidgets>=7->nglview) (0.8.4)\n",
            "Requirement already satisfied: defusedxml in /usr/local/lib/python3.7/dist-packages (from nbconvert->notebook>=4.4.1->widgetsnbextension~=3.5.0->ipywidgets>=7->nglview) (0.7.1)\n",
            "Requirement already satisfied: bleach in /usr/local/lib/python3.7/dist-packages (from nbconvert->notebook>=4.4.1->widgetsnbextension~=3.5.0->ipywidgets>=7->nglview) (3.3.0)\n",
            "Requirement already satisfied: entrypoints>=0.2.2 in /usr/local/lib/python3.7/dist-packages (from nbconvert->notebook>=4.4.1->widgetsnbextension~=3.5.0->ipywidgets>=7->nglview) (0.3)\n",
            "Requirement already satisfied: pandocfilters>=1.4.1 in /usr/local/lib/python3.7/dist-packages (from nbconvert->notebook>=4.4.1->widgetsnbextension~=3.5.0->ipywidgets>=7->nglview) (1.4.3)\n",
            "Requirement already satisfied: testpath in /usr/local/lib/python3.7/dist-packages (from nbconvert->notebook>=4.4.1->widgetsnbextension~=3.5.0->ipywidgets>=7->nglview) (0.5.0)\n",
            "Requirement already satisfied: packaging in /usr/local/lib/python3.7/dist-packages (from bleach->nbconvert->notebook>=4.4.1->widgetsnbextension~=3.5.0->ipywidgets>=7->nglview) (21.0)\n",
            "Requirement already satisfied: webencodings in /usr/local/lib/python3.7/dist-packages (from bleach->nbconvert->notebook>=4.4.1->widgetsnbextension~=3.5.0->ipywidgets>=7->nglview) (0.5.1)\n",
            "Requirement already satisfied: pyparsing>=2.0.2 in /usr/local/lib/python3.7/dist-packages (from packaging->bleach->nbconvert->notebook>=4.4.1->widgetsnbextension~=3.5.0->ipywidgets>=7->nglview) (2.4.7)\n",
            "Building wheels for collected packages: nglview\n",
            "  Building wheel for nglview (PEP 517) ... \u001b[?25l\u001b[?25hdone\n",
            "  Created wheel for nglview: filename=nglview-3.0.3-py3-none-any.whl size=8057549 sha256=3d1f4dead3888bf8d959e1770fa66144e3dd0aefb589c1e3fc2166b1009ca819\n",
            "  Stored in directory: /root/.cache/pip/wheels/01/0c/49/c6f79d8edba8fe89752bf20de2d99040bfa57db0548975c5d5\n",
            "Successfully built nglview\n",
            "Installing collected packages: nglview\n",
            "Successfully installed nglview-3.0.3\n"
          ],
          "name": "stdout"
        }
      ]
    },
    {
      "cell_type": "code",
      "metadata": {
        "scrolled": false,
        "id": "R2b_tOUrb0uR",
        "outputId": "dd10528d-c3cc-41e7-b300-04ac21378097",
        "colab": {
          "base_uri": "https://localhost:8080/",
          "height": 1000
        }
      },
      "source": [
        "# parameters for the trimer\n",
        "d1 = 1.0\n",
        "d2 = 1.0\n",
        "theta = 30\n",
        "# convert angle to radians\n",
        "theta *= math.pi/180\n",
        "\n",
        "# generate the atomic coordinates\n",
        "atoms = numpy.zeros((3,3))\n",
        "atoms[1] = [math.cos(theta),-math.sin(theta),0]\n",
        "atoms[2] = [-math.cos(theta),-math.sin(theta),0]\n",
        "atoms = numpy.array(atoms)\n",
        "atoms_sys = Atoms(positions=atoms, symbols=['H']*3)\n",
        "\n",
        "# show the atomic position vectors - on rows\n",
        "print(atoms)\n",
        "\n",
        "# show atomic positions - drag mouse to rotate view\n",
        "view(atoms_sys,viewer='x3d')"
      ],
      "execution_count": 16,
      "outputs": [
        {
          "output_type": "stream",
          "text": [
            "[[ 0.         0.         0.       ]\n",
            " [ 0.8660254 -0.5        0.       ]\n",
            " [-0.8660254 -0.5        0.       ]]\n"
          ],
          "name": "stdout"
        },
        {
          "output_type": "execute_result",
          "data": {
            "text/html": [
              "<html>\n",
              "\n",
              " <head>\n",
              "\n",
              "  <title>ASE atomic visualization</title>\n",
              "\n",
              "  <link rel=\"stylesheet\" type=\"text/css\"\n",
              "\n",
              "   href=\"https://www.x3dom.org/x3dom/release/x3dom.css\">\n",
              "\n",
              "  </link>\n",
              "\n",
              "  <script type=\"text/javascript\"\n",
              "\n",
              "   src=\"https://www.x3dom.org/x3dom/release/x3dom.js\">\n",
              "\n",
              "  </script>\n",
              "\n",
              " </head>\n",
              "\n",
              " <body>\n",
              "\n",
              "  <X3D>\n",
              "\n",
              "   <Scene>\n",
              "\n",
              "    <Transform translation=\"0.00 0.00 0.00\">\n",
              "\n",
              "     <Shape>\n",
              "\n",
              "      <Appearance>\n",
              "\n",
              "       <Material diffuseColor=\"1.000 1.000 1.000\" specularColor=\"0.5 0.5 0.5\">\n",
              "\n",
              "       </Material>\n",
              "\n",
              "      </Appearance>\n",
              "\n",
              "      <Sphere radius=\"0.31\">\n",
              "\n",
              "      </Sphere>\n",
              "\n",
              "     </Shape>\n",
              "\n",
              "    </Transform>\n",
              "\n",
              "    <Transform translation=\"0.87 -0.50 0.00\">\n",
              "\n",
              "     <Shape>\n",
              "\n",
              "      <Appearance>\n",
              "\n",
              "       <Material diffuseColor=\"1.000 1.000 1.000\" specularColor=\"0.5 0.5 0.5\">\n",
              "\n",
              "       </Material>\n",
              "\n",
              "      </Appearance>\n",
              "\n",
              "      <Sphere radius=\"0.31\">\n",
              "\n",
              "      </Sphere>\n",
              "\n",
              "     </Shape>\n",
              "\n",
              "    </Transform>\n",
              "\n",
              "    <Transform translation=\"-0.87 -0.50 0.00\">\n",
              "\n",
              "     <Shape>\n",
              "\n",
              "      <Appearance>\n",
              "\n",
              "       <Material diffuseColor=\"1.000 1.000 1.000\" specularColor=\"0.5 0.5 0.5\">\n",
              "\n",
              "       </Material>\n",
              "\n",
              "      </Appearance>\n",
              "\n",
              "      <Sphere radius=\"0.31\">\n",
              "\n",
              "      </Sphere>\n",
              "\n",
              "     </Shape>\n",
              "\n",
              "    </Transform>\n",
              "\n",
              "   </Scene>\n",
              "\n",
              "  </X3D>\n",
              "\n",
              " </body>\n",
              "\n",
              "</html>\n",
              "\n"
            ],
            "text/plain": [
              "<IPython.core.display.HTML object>"
            ]
          },
          "metadata": {
            "tags": []
          },
          "execution_count": 16
        }
      ]
    },
    {
      "cell_type": "markdown",
      "metadata": {
        "id": "Qn5FOLumb0uS"
      },
      "source": [
        "### Computing the ACSFs - two-body terms\n",
        "\n",
        "The simplest ACSF quantifies the amount of atoms within cutoff:<br>\n",
        "$$G^0_i = \\sum_j f_c\\left(r_{ij}\\right)$$\n",
        "with\n",
        "$$f_c(r) = \\frac{1}{2} \\left[\\cos\\left(\\pi \\frac{r}{r_c}\\right) + 1 \\right]$$"
      ]
    },
    {
      "cell_type": "code",
      "metadata": {
        "scrolled": false,
        "id": "LMRtsDOkb0uS",
        "outputId": "95928039-9359-49aa-c13b-944e67bfa571",
        "colab": {
          "base_uri": "https://localhost:8080/"
        }
      },
      "source": [
        "# cutoff distance for all ACSFs\n",
        "Rcut = 5.0\n",
        "\n",
        "def fcut(r):\n",
        "    return (math.cos(math.pi * r/Rcut)+1) * 0.5\n",
        "\n",
        "# compute the ACSF G0 (sum of cutoff)\n",
        "G0 = numpy.zeros(3)\n",
        "for i in range(3): # compute one ACSF for each atom i\n",
        "    for j in range(3): # loop over all OTHER atoms\n",
        "        if i == j: continue\n",
        "        r = numpy.linalg.norm(atoms[i]-atoms[j]) # compute distance i-j\n",
        "        if r > Rcut: continue # skip if too far\n",
        "        G0[i] += fcut(r)\n",
        "        \n",
        "print(G0)"
      ],
      "execution_count": 17,
      "outputs": [
        {
          "output_type": "stream",
          "text": [
            "[1.80901699 1.63651351 1.63651351]\n"
          ],
          "name": "stdout"
        }
      ]
    },
    {
      "cell_type": "markdown",
      "metadata": {
        "id": "cP_xin20b0uT"
      },
      "source": [
        "The result is one number for each atom in the system. Larger values indicate more atoms in the vicinity. The last two atoms are a bit far from each other, thus their G0 is smaller than the central atom."
      ]
    },
    {
      "cell_type": "markdown",
      "metadata": {
        "id": "7ro6rDEtb0uU"
      },
      "source": [
        "The next type of ACSF gives more information about distances to neighbouring atoms:\n",
        "\n",
        "\n",
        "$$G^1_i = \\sum_j e^{-\\eta\\left(r_{ij} - R_s \\right)^2} f_c\\left(r_{ij}\\right)$$\n",
        "\n",
        "\n",
        "where $\\eta$ and $R_s$ are free parameters. The ACSF is a gaussian, and we can imagine that $G^1$ quantifies how many other atoms are found $R_s$ away from the central atom.<br>\n",
        "In practice, $G^1$ is computed for several combinations of $\\eta$ and $R_s$, thus each atom will have a series of $G^1$ values ($G^1$ is an array for each atom)"
      ]
    },
    {
      "cell_type": "code",
      "metadata": {
        "scrolled": false,
        "id": "GeflqpXgb0uV",
        "outputId": "79f29e08-7059-428f-d823-f894cf39f2ab",
        "colab": {
          "base_uri": "https://localhost:8080/",
          "height": 330
        }
      },
      "source": [
        "# G1 function definition\n",
        "def G1f(x, eta, Rs):\n",
        "     return math.exp(-eta*(x-Rs)*(x-Rs)) * ((math.cos(math.pi * x/Rcut)+1) * 0.5)\n",
        "G1v = numpy.vectorize(G1f)\n",
        "\n",
        "# this is a list of eta/Rs pairs to use in our example\n",
        "p = [(0.4, 0.2),(0.4, 0.5),(0.4, 1.0),(0.5, 2.0),(0.5, 3.0),(0.5, 4.0)]\n",
        "\n",
        "# make a nice plot of the ACSFs we are using\n",
        "datar = numpy.arange(0, Rcut, Rcut/100)\n",
        "for pp in p:\n",
        "    plt.plot(datar, G1v(datar, pp[0], pp[1]) )\n",
        "plt.xlabel('Pair distance')\n",
        "plt.ylabel('G1')\n",
        "plt.show()\n",
        "\n",
        "# compute the ACSF G1\n",
        "G1 = numpy.zeros((3, len(p)))\n",
        "\n",
        "for i in range(3): # compute one ACSF for each atom i\n",
        "    for j in range(3): # loop over all OTHER atoms\n",
        "        if i == j: continue\n",
        "        r = numpy.linalg.norm(atoms[i]-atoms[j]) # compute distance i-j\n",
        "        if r > Rcut: continue # skip if too far\n",
        "        \n",
        "        for k in range(len(p)):\n",
        "            eta, rs = p[k]\n",
        "            G1[i,k] += G1f(r, eta, rs)\n",
        "print(G1)"
      ],
      "execution_count": 18,
      "outputs": [
        {
          "output_type": "display_data",
          "data": {
            "image/png": "[encoded data removed]",
            "text/plain": [
              "<Figure size 432x288 with 1 Axes>"
            ]
          },
          "metadata": {
            "tags": [],
            "needs_background": "light"
          }
        },
        {
          "output_type": "stream",
          "text": [
            "[[1.40043598 1.63686627 1.80901699 1.09722427 0.24482383 0.02009636]\n",
            " [0.98648228 1.21729202 1.49527923 1.25480542 0.45005989 0.06597201]\n",
            " [0.98648228 1.21729202 1.49527923 1.25480542 0.45005989 0.06597201]]\n"
          ],
          "name": "stdout"
        }
      ]
    },
    {
      "cell_type": "markdown",
      "metadata": {
        "id": "21OJdfO_b0uX"
      },
      "source": [
        "The result is a matrix: one row for each atom, one column for each pair or parameters $\\eta$ and $R_s$."
      ]
    },
    {
      "cell_type": "markdown",
      "metadata": {
        "id": "y-jBRqiRb0uX"
      },
      "source": [
        "### Three-body ACSF\n",
        "\n",
        "A more complete description of the system can be achieved by adding ACSFs that depend on triplets of atoms, giving three-body terms to the energy expression. Usually they are functions of the cosine of the angle between three atoms, and the distances between them:\n",
        "\n",
        "\n",
        "$$G^4_i = 2^{1-\\zeta}\\sum_{j,k} \\left(1+\\lambda\\cos\\left( \\theta_{ijk} \\right)\\right)^\\zeta \\exp\\left[-\\eta\\left(r_{ij}^2 +r_{ik}^2+r_{jk}^2\\right)\\right] f_c\\left(r_{ij}\\right)f_c\\left(r_{ik}\\right)f_c\\left(r_{jk}\\right)$$\n",
        "\n",
        "\n",
        "where $\\eta$, $\\zeta$ and $\\lambda$  are free parameter. Usually $\\zeta$ is an integer and $\\lambda = \\pm 1$."
      ]
    },
    {
      "cell_type": "code",
      "metadata": {
        "scrolled": false,
        "id": "G7Y80R2Ub0uY",
        "outputId": "d170cec0-96cb-45f7-ba63-d94abd9a92d6",
        "colab": {
          "base_uri": "https://localhost:8080/"
        }
      },
      "source": [
        "# G4 function definition\n",
        "def G4f(cost, rij, rik, rjk, eta, zeta, lamb):\n",
        "    result = math.pow(2,1-zeta) * math.pow(1+lamb*cost, zeta)\n",
        "    result *= math.exp(-eta*(rij*rij + rik*rik + rjk*rjk))\n",
        "    return result * fcut(rij) * fcut(rjk) * fcut(rik)\n",
        "\n",
        "\n",
        "# this is a list of eta/zeta/lambda pairs to use in our example\n",
        "p = [(0.4, 1, 1),(0.4, 2, 1),(0.4, 3, 1),(0.8, 1, 1),(0.8, 2, 1)]\n",
        "\n",
        "\n",
        "# compute the ACSF G4\n",
        "G4 = numpy.zeros((3, len(p)))\n",
        "\n",
        "for i in range(3): # compute one ACSF for each atom i\n",
        "    for j in range(3): # loop over all OTHER atoms\n",
        "        if i == j: continue\n",
        "        rij = numpy.linalg.norm(atoms[i]-atoms[j]) # compute distance i-j\n",
        "        if rij > Rcut: continue # skip if too far\n",
        "        for k in range(3):\n",
        "            if k == i or k == j: continue\n",
        "            rik = numpy.linalg.norm(atoms[i]-atoms[k]) # compute distance i-k\n",
        "            rjk = numpy.linalg.norm(atoms[j]-atoms[k]) # compute distance j-k\n",
        "            # compute cosine of angle\n",
        "            cost = numpy.dot(atoms[i]-atoms[k],atoms[i]-atoms[j])\n",
        "            cost /= rij * rik\n",
        "            \n",
        "            for k in range(len(p)):\n",
        "                eta, zeta, lamb = p[k]\n",
        "                G4[i,k] += G4f(cost,rij,rik,rjk, eta, zeta, lamb)\n",
        "print(G4)"
      ],
      "execution_count": 19,
      "outputs": [
        {
          "output_type": "stream",
          "text": [
            "[[0.08104951 0.02026238 0.00506559 0.01096886 0.00274221]\n",
            " [0.30248089 0.28221851 0.26331345 0.04093634 0.03819412]\n",
            " [0.30248089 0.28221851 0.26331345 0.04093634 0.03819412]]\n"
          ],
          "name": "stdout"
        }
      ]
    },
    {
      "cell_type": "markdown",
      "metadata": {
        "collapsed": true,
        "id": "PB3vZF7Fb0uZ"
      },
      "source": [
        "### Remarks\n",
        "\n",
        "These are some of the functions suggested by the authors, but more can be crafted. Two-body ACSFs must only depend on the pair distance, while three-body ones must include angular dependence.\n",
        "\n",
        "In practice ACSFs are subdivided according to the atomic types. For example, if the system only has C and H, each atom $i$ of type C will have two sets of $G^1$:\n",
        "\n",
        "$$G^1_{i-C} = \\sum_{j\\in C} e^{-\\eta\\left(r_{ij} - R_s \\right)^2} f_c\\left(r_{ij}\\right)$$\n",
        "$$G^1_{i-H} = \\sum_{j\\in H} e^{-\\eta\\left(r_{ij} - R_s \\right)^2} f_c\\left(r_{ij}\\right)$$\n",
        "\n",
        "and similarly for three-body ACSFs. The chemical environments w.r.t. different atomic species are separate, and go to different neural networks. This way, more information is retained in the ACSF descriptors but more NN parameters will be necessary to accurately model the system, and more training data has to be supplied."
      ]
    },
    {
      "cell_type": "markdown",
      "metadata": {
        "id": "bQ1eZ-Lpb0uZ"
      },
      "source": [
        "## Exercises"
      ]
    },
    {
      "cell_type": "markdown",
      "metadata": {
        "id": "Hl_WaT1db0uZ"
      },
      "source": [
        "### 1. Invariants\n",
        "Verify (numerically) that the ACSF are invariant under translations and rotations of the whole system."
      ]
    },
    {
      "cell_type": "code",
      "metadata": {
        "scrolled": false,
        "id": "j8FVXhrSb0ua"
      },
      "source": [
        ""
      ],
      "execution_count": null,
      "outputs": []
    },
    {
      "cell_type": "markdown",
      "metadata": {
        "id": "bVWUYSlDb0ua"
      },
      "source": [
        "### 2. Smoothness\n",
        "Verify (numerically) that ACSF change smoothly for small changes in the system"
      ]
    },
    {
      "cell_type": "code",
      "metadata": {
        "scrolled": false,
        "id": "5Y5bVq0Tb0ua"
      },
      "source": [
        ""
      ],
      "execution_count": null,
      "outputs": []
    },
    {
      "cell_type": "markdown",
      "metadata": {
        "id": "k8lyPK0zb0ua"
      },
      "source": [
        "### 3. A new ACSF\n",
        "Implement the $G^5$ three-body ACSF:\n",
        "\n",
        "$$G^5_i = 2^{1-\\zeta}\\sum_{j,k} \\left(1+\\lambda\\cos\\left( \\theta_{ijk} \\right)\\right)^\\zeta \\exp\\left[-\\eta\\left(r_{ij}^2 +r_{ik}^2\\right)\\right] f_c\\left(r_{ij}\\right)f_c\\left(r_{ik}\\right)$$"
      ]
    },
    {
      "cell_type": "code",
      "metadata": {
        "scrolled": false,
        "id": "ApP186dnb0ua"
      },
      "source": [
        ""
      ],
      "execution_count": null,
      "outputs": []
    }
  ]
}