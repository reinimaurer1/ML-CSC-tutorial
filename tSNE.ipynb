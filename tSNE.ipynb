{
  "nbformat": 4,
  "nbformat_minor": 0,
  "metadata": {
    "kernelspec": {
      "display_name": "Python 3",
      "language": "python",
      "name": "python3"
    },
    "language_info": {
      "codemirror_mode": {
        "name": "ipython",
        "version": 3
      },
      "file_extension": ".py",
      "mimetype": "text/x-python",
      "name": "python",
      "nbconvert_exporter": "python",
      "pygments_lexer": "ipython3",
      "version": "3.5.2"
    },
    "colab": {
      "name": "tSNE.ipynb",
      "provenance": []
    }
  },
  "cells": [
    {
      "cell_type": "markdown",
      "metadata": {
        "id": "gaCt_r8d2s_b"
      },
      "source": [
        "# t-distributed Stochastic Neighbour Embedding\n",
        "\n",
        "t-SNE is a nonlinear dimensionality reduction technique for high-dimensional data.\n",
        "\n",
        "More info in the usual place: https://en.wikipedia.org/wiki/T-distributed_stochastic_neighbor_embedding\n"
      ]
    },
    {
      "cell_type": "code",
      "metadata": {
        "id": "tM1JiHuk2s_g",
        "outputId": "4d7c1659-9f41-4b1f-b135-d8ab4b27b9c4",
        "colab": {
          "base_uri": "https://localhost:8080/"
        }
      },
      "source": [
        "!pip install ase\n",
        "!pip install dscribe\n",
        "!git clone https://github.com/reinimaurer1/ML-CSC-tutorial tut\n",
        "!mv tut/data data\n",
        "from sklearn.manifold import TSNE\n",
        "import matplotlib.pyplot as plt\n",
        "import numpy\n",
        "import pickle\n",
        "from dscribe.descriptors import MBTR\n",
        "from ase.visualize import view"
      ],
      "execution_count": 1,
      "outputs": [
        {
          "output_type": "stream",
          "text": [
            "Collecting ase\n",
            "  Downloading ase-3.22.0-py3-none-any.whl (2.2 MB)\n",
            "\u001b[K     |████████████████████████████████| 2.2 MB 8.8 MB/s \n",
            "\u001b[?25hRequirement already satisfied: scipy>=1.1.0 in /usr/local/lib/python3.7/dist-packages (from ase) (1.4.1)\n",
            "Requirement already satisfied: numpy>=1.15.0 in /usr/local/lib/python3.7/dist-packages (from ase) (1.19.5)\n",
            "Requirement already satisfied: matplotlib>=3.1.0 in /usr/local/lib/python3.7/dist-packages (from ase) (3.2.2)\n",
            "Requirement already satisfied: python-dateutil>=2.1 in /usr/local/lib/python3.7/dist-packages (from matplotlib>=3.1.0->ase) (2.8.1)\n",
            "Requirement already satisfied: kiwisolver>=1.0.1 in /usr/local/lib/python3.7/dist-packages (from matplotlib>=3.1.0->ase) (1.3.1)\n",
            "Requirement already satisfied: pyparsing!=2.0.4,!=2.1.2,!=2.1.6,>=2.0.1 in /usr/local/lib/python3.7/dist-packages (from matplotlib>=3.1.0->ase) (2.4.7)\n",
            "Requirement already satisfied: cycler>=0.10 in /usr/local/lib/python3.7/dist-packages (from matplotlib>=3.1.0->ase) (0.10.0)\n",
            "Requirement already satisfied: six in /usr/local/lib/python3.7/dist-packages (from cycler>=0.10->matplotlib>=3.1.0->ase) (1.15.0)\n",
            "Installing collected packages: ase\n",
            "Successfully installed ase-3.22.0\n",
            "Collecting dscribe\n",
            "  Downloading dscribe-1.1.0.tar.gz (143 kB)\n",
            "\u001b[K     |████████████████████████████████| 143 kB 7.8 MB/s \n",
            "\u001b[?25hCollecting pybind11>=2.4\n",
            "  Using cached pybind11-2.7.1-py2.py3-none-any.whl (200 kB)\n",
            "Requirement already satisfied: numpy in /usr/local/lib/python3.7/dist-packages (from dscribe) (1.19.5)\n",
            "Requirement already satisfied: scipy in /usr/local/lib/python3.7/dist-packages (from dscribe) (1.4.1)\n",
            "Requirement already satisfied: ase>=3.19.0 in /usr/local/lib/python3.7/dist-packages (from dscribe) (3.22.0)\n",
            "Requirement already satisfied: scikit-learn in /usr/local/lib/python3.7/dist-packages (from dscribe) (0.22.2.post1)\n",
            "Requirement already satisfied: joblib>=1.0.0 in /usr/local/lib/python3.7/dist-packages (from dscribe) (1.0.1)\n",
            "Collecting sparse\n",
            "  Downloading sparse-0.12.0-py2.py3-none-any.whl (76 kB)\n",
            "\u001b[K     |████████████████████████████████| 76 kB 5.7 MB/s \n",
            "\u001b[?25hRequirement already satisfied: matplotlib>=3.1.0 in /usr/local/lib/python3.7/dist-packages (from ase>=3.19.0->dscribe) (3.2.2)\n",
            "Requirement already satisfied: pyparsing!=2.0.4,!=2.1.2,!=2.1.6,>=2.0.1 in /usr/local/lib/python3.7/dist-packages (from matplotlib>=3.1.0->ase>=3.19.0->dscribe) (2.4.7)\n",
            "Requirement already satisfied: python-dateutil>=2.1 in /usr/local/lib/python3.7/dist-packages (from matplotlib>=3.1.0->ase>=3.19.0->dscribe) (2.8.1)\n",
            "Requirement already satisfied: kiwisolver>=1.0.1 in /usr/local/lib/python3.7/dist-packages (from matplotlib>=3.1.0->ase>=3.19.0->dscribe) (1.3.1)\n",
            "Requirement already satisfied: cycler>=0.10 in /usr/local/lib/python3.7/dist-packages (from matplotlib>=3.1.0->ase>=3.19.0->dscribe) (0.10.0)\n",
            "Requirement already satisfied: six in /usr/local/lib/python3.7/dist-packages (from cycler>=0.10->matplotlib>=3.1.0->ase>=3.19.0->dscribe) (1.15.0)\n",
            "Requirement already satisfied: numba>=0.49 in /usr/local/lib/python3.7/dist-packages (from sparse->dscribe) (0.51.2)\n",
            "Requirement already satisfied: llvmlite<0.35,>=0.34.0.dev0 in /usr/local/lib/python3.7/dist-packages (from numba>=0.49->sparse->dscribe) (0.34.0)\n",
            "Requirement already satisfied: setuptools in /usr/local/lib/python3.7/dist-packages (from numba>=0.49->sparse->dscribe) (57.2.0)\n",
            "Building wheels for collected packages: dscribe\n",
            "  Building wheel for dscribe (setup.py) ... \u001b[?25l\u001b[?25hdone\n",
            "  Created wheel for dscribe: filename=dscribe-1.1.0-cp37-cp37m-linux_x86_64.whl size=4339663 sha256=573fe2a3f4abbd32a4e240567d17c5a2cd7a703038bfb8c03c3cddffe0efc6bc\n",
            "  Stored in directory: /root/.cache/pip/wheels/05/f8/a6/c5328c447d56d1efed920c372cbd0086ac1e01de1b5adaa9db\n",
            "Successfully built dscribe\n",
            "Installing collected packages: sparse, pybind11, dscribe\n",
            "Successfully installed dscribe-1.1.0 pybind11-2.7.1 sparse-0.12.0\n",
            "Cloning into 'tut'...\n",
            "remote: Enumerating objects: 402, done.\u001b[K\n",
            "remote: Counting objects: 100% (85/85), done.\u001b[K\n",
            "remote: Compressing objects: 100% (80/80), done.\u001b[K\n",
            "remote: Total 402 (delta 43), reused 16 (delta 5), pack-reused 317\u001b[K\n",
            "Receiving objects: 100% (402/402), 543.22 MiB | 35.41 MiB/s, done.\n",
            "Resolving deltas: 100% (166/166), done.\n",
            "Checking out files: 100% (129/129), done.\n"
          ],
          "name": "stdout"
        }
      ]
    },
    {
      "cell_type": "markdown",
      "metadata": {
        "id": "xdiayX6C2s_k"
      },
      "source": [
        "We are going to apply this technique to a database of wine samples. The inputs are 13 chemical descriptors, the output is the index of its class (cheap, ok, good). In principle we do not know the output."
      ]
    },
    {
      "cell_type": "code",
      "metadata": {
        "id": "jTr4Rfso2s_m"
      },
      "source": [
        "dataIn = numpy.genfromtxt('./data/wineInputs.txt', delimiter=',')\n",
        "dataOut = numpy.genfromtxt('./data/wineOutputs.txt', delimiter=',')\n",
        "\n",
        "# find indexes of wines for each class\n",
        "idx1 = numpy.where(dataOut==1)\n",
        "idx2 = numpy.where(dataOut==2)\n",
        "idx3 = numpy.where(dataOut==3)"
      ],
      "execution_count": null,
      "outputs": []
    },
    {
      "cell_type": "code",
      "metadata": {
        "id": "olvdii082s_o"
      },
      "source": [
        "# compute the tSNE transformation of the inputs in 2 dimensions\n",
        "comp = TSNE(n_components=2).fit_transform(dataIn)\n",
        "\n",
        "# plot the resulting 2D points\n",
        "plt.plot(comp[:,0],comp[:,1],'ro')\n",
        "plt.xlabel('X1')\n",
        "plt.ylabel('X2')\n",
        "plt.show()"
      ],
      "execution_count": null,
      "outputs": []
    },
    {
      "cell_type": "markdown",
      "metadata": {
        "id": "epR5_yrQ2s_q"
      },
      "source": [
        "The transform had no idea about the output classes, and still three clusters of points can be seen. We can overlay the knowledge of correct classifaction to check if the clusters correspond to what we know:"
      ]
    },
    {
      "cell_type": "code",
      "metadata": {
        "id": "2xc8YUVT2s_s"
      },
      "source": [
        "plt.plot(comp[idx1,0],comp[idx1,1],'go')\n",
        "plt.plot(comp[idx2,0],comp[idx2,1],'ro')\n",
        "plt.plot(comp[idx3,0],comp[idx3,1],'bo')\n",
        "plt.xlabel('X1')\n",
        "plt.ylabel('X2')\n",
        "plt.show()"
      ],
      "execution_count": null,
      "outputs": []
    },
    {
      "cell_type": "markdown",
      "metadata": {
        "id": "-W10QSHI2s_w"
      },
      "source": [
        "## Exercises"
      ]
    },
    {
      "cell_type": "markdown",
      "metadata": {
        "id": "yh97rvXt2s_y"
      },
      "source": [
        "### 1. Iron clusters\n",
        "\n",
        "We have a bunch of Fe clusters and it is not easy to determine their crystal structure with conventional tools. Let's try using the MBTR descriptor and t-SNE on these clusters and check if we can distinguish between FCC and BCC phases."
      ]
    },
    {
      "cell_type": "code",
      "metadata": {
        "id": "asXhHsCZ2s_2"
      },
      "source": [
        "import ase.io\n",
        "\n",
        "# load the database\n",
        "samples = ase.io.read(\"data/clusters.extxyz\", index=':')\n",
        "\n",
        "# samples is now a list of ASE Atoms objects, ready to use!\n",
        "# the first 55 clusters are FCC, the last 55 are BCC\n",
        "\n",
        "# define MBTR setup\n",
        "mbtr = MBTR(\n",
        "    species=[\"Fe\"],\n",
        "    periodic=False,\n",
        "    k2={\n",
        "        \"geometry\": {\"function\": \"distance\"},\n",
        "        \"grid\": { \"min\": 0, \"max\": 2, \"sigma\": 0.01, \"n\": 200 },\n",
        "        \"weighting\": {\"function\": \"exp\", \"scale\": 0.4, \"cutoff\": 1e-2}\n",
        "    },\n",
        "    k3={\n",
        "        \"geometry\": {\"function\": \"cosine\"},\n",
        "        \"grid\": { \"min\": -1.0, \"max\": 1.0, \"sigma\": 0.02, \"n\": 200 },\n",
        "        \"weighting\": {\"function\": \"exp\", \"scale\": 0.4, \"cutoff\": 1e-2}\n",
        "    },\n",
        "    flatten=True,\n",
        "    sparse=False,\n",
        ")\n",
        "\n",
        "# calculate MBTR descriptor for each sample - takes a few secs\n",
        "mbtrs = mbtr.create(samples)\n",
        "print(mbtrs.shape)"
      ],
      "execution_count": null,
      "outputs": []
    },
    {
      "cell_type": "markdown",
      "metadata": {
        "id": "yuuSoD402s_4"
      },
      "source": [
        "Plot the t-SNE projection of MBTR output and see if you can see the two classes of structures accurately"
      ]
    },
    {
      "cell_type": "code",
      "metadata": {
        "id": "y__ny6Dr2s_5"
      },
      "source": [
        "# ..."
      ],
      "execution_count": null,
      "outputs": []
    },
    {
      "cell_type": "markdown",
      "metadata": {
        "id": "4v3eEKHf2s_6"
      },
      "source": [
        "Plot the original MBTR descriptors and see if the structural differences are visible there"
      ]
    },
    {
      "cell_type": "code",
      "metadata": {
        "id": "THSk0sPw2s_7"
      },
      "source": [
        "# ..."
      ],
      "execution_count": null,
      "outputs": []
    },
    {
      "cell_type": "markdown",
      "metadata": {
        "id": "r38pwezq2s_8"
      },
      "source": [
        "Try changing the MBTR and t-SNE parameters and see how the projection changes"
      ]
    },
    {
      "cell_type": "code",
      "metadata": {
        "id": "3yLGC0oJ2s_8"
      },
      "source": [
        "# ..."
      ],
      "execution_count": null,
      "outputs": []
    }
  ]
}