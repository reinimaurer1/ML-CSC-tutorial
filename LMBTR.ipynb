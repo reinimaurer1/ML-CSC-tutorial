{
  "nbformat": 4,
  "nbformat_minor": 0,
  "metadata": {
    "kernelspec": {
      "display_name": "Python 3",
      "language": "python",
      "name": "python3"
    },
    "language_info": {
      "codemirror_mode": {
        "name": "ipython",
        "version": 3
      },
      "file_extension": ".py",
      "mimetype": "text/x-python",
      "name": "python",
      "nbconvert_exporter": "python",
      "pygments_lexer": "ipython3",
      "version": "3.5.2"
    },
    "colab": {
      "name": "LMBTR.ipynb",
      "provenance": []
    }
  },
  "cells": [
    {
      "cell_type": "markdown",
      "metadata": {
        "id": "grYcqaQjgF9a"
      },
      "source": [
        "# Local Many Body Tensor Representation\n",
        "\n",
        "LMBTR is a **local** descriptor for an atom in a molecule/unit cell. It eliminates rotational and translational variances for the central atom by gathering information about different configurations of $K$ atoms into tensors that are stratified by the involved chemical elements. All element combinations have an associated gaussian-smeared exponentially-weighted histogram. It is essentially the same as the regular MBTR, but calculated for only atom combinations including the central atom.\n",
        "\n",
        "## The Tensor\n",
        "The tensor comprises combinations of elements in different numbers. So, K1 is the atom, K2 is the atom with all elements, and so on. These K's represent different expression of the molecule/unit-cell.\n",
        "\n",
        "### K1\n",
        "As LMBTR encodes information about a local region, smoothly encoding the presence of different atomic species in that environment is problematic (and is already included in the other terms). For this reason the K1 term in LMBTR is not used.\n",
        "\n",
        "### K2\n",
        "K2 represents the gaussian-smeared exponentially-weighted histogram **inverse distances** of pairs of elements with the atom. So, this becomes a matrix of size MxN, where M is the number of elements, and N is the number of bins.\n",
        "\n",
        "### K3\n",
        "K3 represents the gaussian-smeared exponentially-weighted histogram **angles between triplets** of 2 elements, and the atom. So, this becomes a tensor of size MxMxN, where M is the number of elements, and N is the number of bins.\n",
        "\n",
        "## Weighting\n",
        "\n",
        "The distributions for K2 and K3 are weighted. This ensures that contributions from nearby elements is  higher, than from farther ones.\n",
        "\n",
        "For more info about MBTR see:\n",
        "[Huo, Haoyan, and Matthias Rupp. *arXiv preprint* **arXiv:1704.06439 (2017)**](https://arxiv.org/pdf/1704.06439.pdf)  \n",
        "\n",
        "For calculating LMBTR, we use the [DScribe package](https://singroup.github.io/dscribe) as developed by [Surfaces and Interfaces at the Nanoscale, Aalto](http://physics.aalto.fi/en/groups/sin/)"
      ]
    },
    {
      "cell_type": "markdown",
      "metadata": {
        "id": "OkIMngaQgF9d"
      },
      "source": [
        "## Example\n",
        "\n",
        "We are going to see MBTR in action for a simple molecule system."
      ]
    },
    {
      "cell_type": "code",
      "metadata": {
        "id": "rCDuXmSigF9e",
        "outputId": "1e9596cb-03eb-48a6-a6fe-fc8fe78d1c78",
        "colab": {
          "base_uri": "https://localhost:8080/"
        }
      },
      "source": [
        "#resolve KRR dependency\n",
        "import os\n",
        "import os.path\n",
        "!git clone https://github.com/reinimaurer1/ML-CSC-tutorial tut\n",
        "!mv tut/data data\n",
        "!pip install dscribe\n",
        "# --- INITIAL DEFINITIONS ---\n",
        "from dscribe.descriptors import LMBTR\n",
        "import numpy as np\n",
        "from ase.visualize import view\n",
        "from ase import Atoms\n",
        "import ase.data\n",
        "import matplotlib.pyplot as mpl"
      ],
      "execution_count": 3,
      "outputs": [
        {
          "output_type": "stream",
          "text": [
            "fatal: destination path 'tut' already exists and is not an empty directory.\n",
            "mv: cannot stat 'tut/data': No such file or directory\n",
            "Requirement already satisfied: dscribe in /usr/local/lib/python3.7/dist-packages (1.1.0)\n",
            "Requirement already satisfied: scikit-learn in /usr/local/lib/python3.7/dist-packages (from dscribe) (0.22.2.post1)\n",
            "Requirement already satisfied: pybind11>=2.4 in /usr/local/lib/python3.7/dist-packages (from dscribe) (2.7.1)\n",
            "Requirement already satisfied: sparse in /usr/local/lib/python3.7/dist-packages (from dscribe) (0.12.0)\n",
            "Requirement already satisfied: scipy in /usr/local/lib/python3.7/dist-packages (from dscribe) (1.4.1)\n",
            "Requirement already satisfied: ase>=3.19.0 in /usr/local/lib/python3.7/dist-packages (from dscribe) (3.22.0)\n",
            "Requirement already satisfied: numpy in /usr/local/lib/python3.7/dist-packages (from dscribe) (1.19.5)\n",
            "Requirement already satisfied: joblib>=1.0.0 in /usr/local/lib/python3.7/dist-packages (from dscribe) (1.0.1)\n",
            "Requirement already satisfied: matplotlib>=3.1.0 in /usr/local/lib/python3.7/dist-packages (from ase>=3.19.0->dscribe) (3.2.2)\n",
            "Requirement already satisfied: kiwisolver>=1.0.1 in /usr/local/lib/python3.7/dist-packages (from matplotlib>=3.1.0->ase>=3.19.0->dscribe) (1.3.1)\n",
            "Requirement already satisfied: cycler>=0.10 in /usr/local/lib/python3.7/dist-packages (from matplotlib>=3.1.0->ase>=3.19.0->dscribe) (0.10.0)\n",
            "Requirement already satisfied: python-dateutil>=2.1 in /usr/local/lib/python3.7/dist-packages (from matplotlib>=3.1.0->ase>=3.19.0->dscribe) (2.8.1)\n",
            "Requirement already satisfied: pyparsing!=2.0.4,!=2.1.2,!=2.1.6,>=2.0.1 in /usr/local/lib/python3.7/dist-packages (from matplotlib>=3.1.0->ase>=3.19.0->dscribe) (2.4.7)\n",
            "Requirement already satisfied: six in /usr/local/lib/python3.7/dist-packages (from cycler>=0.10->matplotlib>=3.1.0->ase>=3.19.0->dscribe) (1.15.0)\n",
            "Requirement already satisfied: numba>=0.49 in /usr/local/lib/python3.7/dist-packages (from sparse->dscribe) (0.51.2)\n",
            "Requirement already satisfied: llvmlite<0.35,>=0.34.0.dev0 in /usr/local/lib/python3.7/dist-packages (from numba>=0.49->sparse->dscribe) (0.34.0)\n",
            "Requirement already satisfied: setuptools in /usr/local/lib/python3.7/dist-packages (from numba>=0.49->sparse->dscribe) (57.2.0)\n"
          ],
          "name": "stdout"
        }
      ]
    },
    {
      "cell_type": "markdown",
      "metadata": {
        "id": "Lno5zX8CgF9f"
      },
      "source": [
        "### Atom description\n",
        "\n",
        "We'll make a ase.Atoms class for our molecule"
      ]
    },
    {
      "cell_type": "code",
      "metadata": {
        "id": "qEiCY12ngF9g",
        "outputId": "b0be351f-5484-466d-b67d-02a94a3a432d",
        "colab": {
          "base_uri": "https://localhost:8080/"
        }
      },
      "source": [
        "# atomic positions as matrix\n",
        "molxyz = np.load(\"./data/molecule.coords.npy\")\n",
        "# atom types\n",
        "moltyp = np.load(\"./data/molecule.types.npy\")\n",
        "\n",
        "atoms_sys = Atoms(positions=molxyz, numbers=moltyp)\n",
        "view(atoms_sys)"
      ],
      "execution_count": 4,
      "outputs": [
        {
          "output_type": "execute_result",
          "data": {
            "text/plain": [
              "<subprocess.Popen at 0x7f67747df450>"
            ]
          },
          "metadata": {
            "tags": []
          },
          "execution_count": 4
        }
      ]
    },
    {
      "cell_type": "markdown",
      "metadata": {
        "id": "zo7WT4YOgF9g"
      },
      "source": [
        "### Setting LMBTR hyper-parameters\n",
        "\n",
        "Next we set-up hyper-parameters:\n",
        "1. species, the chemical elements to include in the MBTR, helps comparing two structures with missing elements\n",
        "2. k, list/set of K's to be computed\n",
        "3. grid: dictionary for K1, K2, K3 with\n",
        "    min, max: are the min and max values for each distribution\n",
        "    sigma, the exponent coefficient for smearing\n",
        "    n, number of bins.\n",
        "4. weights: dictionary of weighting functions to be used.\n",
        "\n",
        "**Note: The dscribe package has implementation of LMBTR up to K3**\n"
      ]
    },
    {
      "cell_type": "code",
      "metadata": {
        "id": "7T_olrOOgF9h",
        "outputId": "59786353-17c3-449c-ac60-9d29b4a1cdd7",
        "colab": {
          "base_uri": "https://localhost:8080/"
        }
      },
      "source": [
        "# Create the MBTR desciptor for the system\n",
        "mbtr = LMBTR(\n",
        "    species=['H', 'C', 'N', 'O', 'F'],\n",
        "    periodic=False,\n",
        "    k2={\n",
        "        \"geometry\": {\"function\": \"distance\"},\n",
        "        \"grid\": { \"min\": 0.0, \"max\": 2.0, \"sigma\": 0.1, \"n\": 100 },\n",
        "        \"weighting\": {\"function\": \"unity\"}\n",
        "    },\n",
        "    k3={\n",
        "        \"geometry\": {\"function\": \"cosine\"},\n",
        "        \"grid\": { \"min\": -1.0, \"max\": 1.0, \"sigma\": 0.05, \"n\": 100 },\n",
        "        \"weighting\": {\"function\": \"unity\"}\n",
        "    },\n",
        "    flatten=True,\n",
        "    sparse=False\n",
        ")\n",
        "print(\"Number of features: {}\".format(mbtr.get_number_of_features()))"
      ],
      "execution_count": 5,
      "outputs": [
        {
          "output_type": "stream",
          "text": [
            "Number of features: 5700\n"
          ],
          "name": "stdout"
        }
      ]
    },
    {
      "cell_type": "markdown",
      "metadata": {
        "id": "deMAzEVZgF9j"
      },
      "source": [
        "### Calculate LMBTR\n",
        "\n",
        "We call the create function of the LMBTR class over our Atoms object. The calculation will be done only for one atom:"
      ]
    },
    {
      "cell_type": "code",
      "metadata": {
        "id": "AZSAuGHvgF9j",
        "outputId": "e3234cc9-55b2-4220-d77c-212ccfec422b",
        "colab": {
          "base_uri": "https://localhost:8080/"
        }
      },
      "source": [
        "#Create Descriptor\n",
        "desc = mbtr.create(atoms_sys, positions=[0])\n",
        "print(\"shape of descriptor: \", desc.shape)"
      ],
      "execution_count": 6,
      "outputs": [
        {
          "output_type": "stream",
          "text": [
            "shape of descriptor:  (1, 5700)\n"
          ],
          "name": "stdout"
        }
      ]
    },
    {
      "cell_type": "markdown",
      "metadata": {
        "id": "XHblLFO5gF9l"
      },
      "source": [
        "### Plotting \n",
        "\n",
        "We will now plot all the tensors, in the same plot for K2, and K3."
      ]
    },
    {
      "cell_type": "code",
      "metadata": {
        "id": "yvP26XtAgF9l",
        "outputId": "f62e4a6b-4b53-45ed-dc0f-0566a5db7c20",
        "colab": {
          "base_uri": "https://localhost:8080/",
          "height": 304
        }
      },
      "source": [
        "# Plot K2\n",
        "x2 = mbtr.get_k2_axis() # this is the x axis of the histogram\n",
        "\n",
        "# create some dictionaries to make atom Z <-- type index --> type name\n",
        "imap = mbtr.index_to_atomic_number\n",
        "smap = {}\n",
        "for index, number in imap.items():\n",
        "    smap[index] = ase.data.chemical_symbols[number]\n",
        "\n",
        "# make the plots\n",
        "for i in range(1, mbtr.n_elements): # avoid showing type 0 = X (the central atom)\n",
        "    \n",
        "    # this is the slice of the flattened MBTR tensor that contains the histogram\n",
        "    # for X-type_i - X is the central atom of the LMBTR expansion\n",
        "    slc = mbtr.get_location(('X',smap[i]))\n",
        "    \n",
        "    # this is the slice\n",
        "    y2 = desc[0][slc]\n",
        "    \n",
        "    mpl.plot(x2, y2, label=\"{}\".format(smap[i]))\n",
        "\n",
        "mpl.ylabel(\"$\\phi$ (arbitrary units)\", size=14)\n",
        "mpl.xlabel(\"Distance (angstrom)\", size=14)\n",
        "mpl.title(\"Distance distribution\", size=20)\n",
        "mpl.legend()\n",
        "mpl.show()"
      ],
      "execution_count": 7,
      "outputs": [
        {
          "output_type": "display_data",
          "data": {
            "image/png": "[encoded data removed]",
            "text/plain": [
              "<Figure size 432x288 with 1 Axes>"
            ]
          },
          "metadata": {
            "tags": [],
            "needs_background": "light"
          }
        }
      ]
    },
    {
      "cell_type": "code",
      "metadata": {
        "id": "iH7kZWibgF9m",
        "outputId": "b2122297-c5ff-4245-9f10-36e3e218782e",
        "colab": {
          "base_uri": "https://localhost:8080/",
          "height": 304
        }
      },
      "source": [
        "# Plot K3\n",
        "x3 = mbtr.get_k3_axis()\n",
        "\n",
        "for i in range(1, mbtr.n_elements):\n",
        "    for j in range(1, mbtr.n_elements):\n",
        "        if j <= i:\n",
        "            slc = mbtr.get_location(('X',smap[i],smap[j]))\n",
        "            mpl.plot(x3, desc[0][slc], label=\"{}, {}\".format(smap[i], smap[j]))\n",
        "\n",
        "mpl.xlim(left=-2)\n",
        "mpl.ylabel(\"$\\phi$ (arbitrary units)\", size=14)\n",
        "mpl.xlabel(\"cos(angle)\", size=14)\n",
        "mpl.title(\"Angle distribution\", size=20)\n",
        "mpl.legend(loc=3)\n",
        "mpl.show()"
      ],
      "execution_count": 8,
      "outputs": [
        {
          "output_type": "display_data",
          "data": {
            "image/png": "[encoded data removed]",
            "text/plain": [
              "<Figure size 432x288 with 1 Axes>"
            ]
          },
          "metadata": {
            "tags": [],
            "needs_background": "light"
          }
        }
      ]
    },
    {
      "cell_type": "markdown",
      "metadata": {
        "id": "JWBotoQfgF9m"
      },
      "source": [
        "## Remark\n",
        "\n",
        "The LMBTR is a fingerprint of one atom. Thus, it can be used to:\n",
        "1. Compare the similarity of two local chemical environments by comparing the LMBTR values.\n",
        "2. Machine learn local properties, like charges, adsorption energies, etc.\n"
      ]
    },
    {
      "cell_type": "markdown",
      "metadata": {
        "id": "XAfbjo-hgF9n"
      },
      "source": [
        "## Exercise\n",
        "\n",
        "Calculate the local MBTR for all other atoms."
      ]
    },
    {
      "cell_type": "code",
      "metadata": {
        "id": "IagCpKHCgF9o"
      },
      "source": [
        "\n"
      ],
      "execution_count": 8,
      "outputs": []
    },
    {
      "cell_type": "code",
      "metadata": {
        "id": "KNn63e4si-c2"
      },
      "source": [
        ""
      ],
      "execution_count": null,
      "outputs": []
    }
  ]
}