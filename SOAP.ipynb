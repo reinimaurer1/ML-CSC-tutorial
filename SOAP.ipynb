{
  "nbformat": 4,
  "nbformat_minor": 0,
  "metadata": {
    "kernelspec": {
      "display_name": "Python 3",
      "language": "python",
      "name": "python3"
    },
    "language_info": {
      "codemirror_mode": {
        "name": "ipython",
        "version": 3
      },
      "file_extension": ".py",
      "mimetype": "text/x-python",
      "name": "python",
      "nbconvert_exporter": "python",
      "pygments_lexer": "ipython3",
      "version": "3.5.2"
    },
    "colab": {
      "name": "SOAP.ipynb",
      "provenance": []
    }
  },
  "cells": [
    {
      "cell_type": "markdown",
      "metadata": {
        "id": "aoKTf-kLkiiA"
      },
      "source": [
        "# Smooth Overlap of Atomic Positions\n",
        "\n",
        "SOAP is a **local** descriptor, that maps the local environment around a point very accurately. It eliminates rotational, and permutation redundancies by integrating the overlap of smoothed out atomic positions, by gaussian smearing, and mapping them into coefficients of orthornormal basis functions.\n",
        "\n",
        "This is done by the following steps:\n",
        "\n",
        "* Smooth out the atomic positions:\n",
        "\n",
        "    The atomic positions are point objects in space. Integrating them would need a lot of basis functions. Thus, the atoms' positions are smeared as gaussian functions. \n",
        "    $$ \\rho(r) = \\sum_i e^{-(r-r_i)^2}$$\n",
        "    However, this also makes all the elements indistinguishable. Thus, SOAP for individual elements, in molecule/unit-cell, is calculated, and then the values are concantenated at end. \n",
        "    ![soap depiction](https://github.com/reinimaurer1/ML-CSC-tutorial/blob/master/images/soap_depiction.png?raw=1) *Image courtesy Jäger Marc*\n",
        "\n",
        "\n",
        "* Generate orthonormal basis set:\n",
        "\n",
        "    The obtained smeared atomic position, or atomic density, if you will, is decomposed using Laplace Spherical Harmonics -- spherical harmonics in real space -- and orthogonal basis set: $\\Upsilon_{lm}(\\theta, \\phi)$ and  $g_n(r) $. \n",
        "    Basis function for s orbital of hydrogen: ![basis function](https://github.com/reinimaurer1/ML-CSC-tutorial/blob/master/images/basis_set.jpg?raw=1) \n",
        "    Laplace spherical harmonics $\\Upsilon_{ℓm}$ for l = 0, …, 4 (top to bottom) and m = 0, …, l (left to right). The negative order harmonics $\\Upsilon_{ℓ-m}$ would be shown rotated about the z axis by $90^o$ with respect to the positive order ones.\n",
        "    ![rotating spherical harminics](https://github.com/reinimaurer1/ML-CSC-tutorial/blob/master/images/Rotating_spherical_harmonics.gif?raw=1)  *Image courtsey wikipedia.org/wiki/User:Cyp*  \n",
        "    \n",
        "\n",
        "* Integrate for all coefficients:\n",
        "    $$c_{nlm} = \\left< \\rho | g_n(r)\\Upsilon_{lm} \\right>  = \\int_V g_n(r)\\Upsilon_{lm}(\\theta, \\phi)\\rho(r, \\theta, \\phi)dV$$\n",
        "    Further, a power spectrum, or a density matrix, per se, is made out of these parameters and summed for all m's for rotational invarience.\n",
        "    $$P_{nn'l} = \\sum_m c_{nlm}c^*_{n'lm}$$\n",
        "    \n",
        "\n",
        "For more info see:\n",
        "[Bartók, Albert P., Risi Kondor, and Gábor Csányi. <i>Physical Review B 87.18</i> (2013): <b>184115</b>](https://arxiv.org/pdf/1209.3140.pdf;)\n",
        "\n",
        "For calculating SOAP, we use the [DScribe package](https://singroup.github.io/dscribe) as developed by [Surfaces and Interfaces at the Nanoscale, Aalto](http://physics.aalto.fi/en/groups/sin/)"
      ]
    },
    {
      "cell_type": "markdown",
      "metadata": {
        "id": "g6NOaEQOkiiE"
      },
      "source": [
        "## Example\n",
        "\n",
        "We are going to see SOAP in action for a simple NaCl system."
      ]
    },
    {
      "cell_type": "code",
      "metadata": {
        "id": "zH0ssWlzkiiF",
        "outputId": "7513dbf2-d7d6-4cb6-c3de-febe84306886",
        "colab": {
          "base_uri": "https://localhost:8080/"
        }
      },
      "source": [
        "!pip install ase\n",
        "!pip install dscribe\n",
        "!git clone https://github.com/reinimaurer1/ML-CSC-tutorial tut\n",
        "!mv tut/data data\n",
        "# --- INITIAL DEFINITIONS ---\n",
        "import numpy, math, random\n",
        "from ase.visualize import view\n",
        "from ase import Atoms\n",
        "import sys\n",
        "sys.path.insert(0, './data/descriptor_codes/')\n",
        "sys.path.insert(0, './data/descriptor_codes/src')\n",
        "from dscribe.descriptors import SOAP"
      ],
      "execution_count": 1,
      "outputs": [
        {
          "output_type": "stream",
          "text": [
            "Collecting ase\n",
            "  Downloading ase-3.22.0-py3-none-any.whl (2.2 MB)\n",
            "\u001b[K     |████████████████████████████████| 2.2 MB 5.3 MB/s \n",
            "\u001b[?25hRequirement already satisfied: matplotlib>=3.1.0 in /usr/local/lib/python3.7/dist-packages (from ase) (3.2.2)\n",
            "Requirement already satisfied: numpy>=1.15.0 in /usr/local/lib/python3.7/dist-packages (from ase) (1.19.5)\n",
            "Requirement already satisfied: scipy>=1.1.0 in /usr/local/lib/python3.7/dist-packages (from ase) (1.4.1)\n",
            "Requirement already satisfied: cycler>=0.10 in /usr/local/lib/python3.7/dist-packages (from matplotlib>=3.1.0->ase) (0.10.0)\n",
            "Requirement already satisfied: python-dateutil>=2.1 in /usr/local/lib/python3.7/dist-packages (from matplotlib>=3.1.0->ase) (2.8.1)\n",
            "Requirement already satisfied: kiwisolver>=1.0.1 in /usr/local/lib/python3.7/dist-packages (from matplotlib>=3.1.0->ase) (1.3.1)\n",
            "Requirement already satisfied: pyparsing!=2.0.4,!=2.1.2,!=2.1.6,>=2.0.1 in /usr/local/lib/python3.7/dist-packages (from matplotlib>=3.1.0->ase) (2.4.7)\n",
            "Requirement already satisfied: six in /usr/local/lib/python3.7/dist-packages (from cycler>=0.10->matplotlib>=3.1.0->ase) (1.15.0)\n",
            "Installing collected packages: ase\n",
            "Successfully installed ase-3.22.0\n",
            "Collecting dscribe\n",
            "  Downloading dscribe-1.1.0.tar.gz (143 kB)\n",
            "\u001b[K     |████████████████████████████████| 143 kB 4.9 MB/s \n",
            "\u001b[?25hCollecting pybind11>=2.4\n",
            "  Using cached pybind11-2.7.1-py2.py3-none-any.whl (200 kB)\n",
            "Requirement already satisfied: numpy in /usr/local/lib/python3.7/dist-packages (from dscribe) (1.19.5)\n",
            "Requirement already satisfied: scipy in /usr/local/lib/python3.7/dist-packages (from dscribe) (1.4.1)\n",
            "Requirement already satisfied: ase>=3.19.0 in /usr/local/lib/python3.7/dist-packages (from dscribe) (3.22.0)\n",
            "Requirement already satisfied: scikit-learn in /usr/local/lib/python3.7/dist-packages (from dscribe) (0.22.2.post1)\n",
            "Requirement already satisfied: joblib>=1.0.0 in /usr/local/lib/python3.7/dist-packages (from dscribe) (1.0.1)\n",
            "Collecting sparse\n",
            "  Downloading sparse-0.12.0-py2.py3-none-any.whl (76 kB)\n",
            "\u001b[K     |████████████████████████████████| 76 kB 3.5 MB/s \n",
            "\u001b[?25hRequirement already satisfied: matplotlib>=3.1.0 in /usr/local/lib/python3.7/dist-packages (from ase>=3.19.0->dscribe) (3.2.2)\n",
            "Requirement already satisfied: pyparsing!=2.0.4,!=2.1.2,!=2.1.6,>=2.0.1 in /usr/local/lib/python3.7/dist-packages (from matplotlib>=3.1.0->ase>=3.19.0->dscribe) (2.4.7)\n",
            "Requirement already satisfied: python-dateutil>=2.1 in /usr/local/lib/python3.7/dist-packages (from matplotlib>=3.1.0->ase>=3.19.0->dscribe) (2.8.1)\n",
            "Requirement already satisfied: kiwisolver>=1.0.1 in /usr/local/lib/python3.7/dist-packages (from matplotlib>=3.1.0->ase>=3.19.0->dscribe) (1.3.1)\n",
            "Requirement already satisfied: cycler>=0.10 in /usr/local/lib/python3.7/dist-packages (from matplotlib>=3.1.0->ase>=3.19.0->dscribe) (0.10.0)\n",
            "Requirement already satisfied: six in /usr/local/lib/python3.7/dist-packages (from cycler>=0.10->matplotlib>=3.1.0->ase>=3.19.0->dscribe) (1.15.0)\n",
            "Requirement already satisfied: numba>=0.49 in /usr/local/lib/python3.7/dist-packages (from sparse->dscribe) (0.51.2)\n",
            "Requirement already satisfied: llvmlite<0.35,>=0.34.0.dev0 in /usr/local/lib/python3.7/dist-packages (from numba>=0.49->sparse->dscribe) (0.34.0)\n",
            "Requirement already satisfied: setuptools in /usr/local/lib/python3.7/dist-packages (from numba>=0.49->sparse->dscribe) (57.2.0)\n",
            "Building wheels for collected packages: dscribe\n",
            "  Building wheel for dscribe (setup.py) ... \u001b[?25l\u001b[?25hdone\n",
            "  Created wheel for dscribe: filename=dscribe-1.1.0-cp37-cp37m-linux_x86_64.whl size=4339789 sha256=12e2c1722481a1b6a99cee7fd1ce5da5992d1ebde25f3728335e24f01b977c23\n",
            "  Stored in directory: /root/.cache/pip/wheels/05/f8/a6/c5328c447d56d1efed920c372cbd0086ac1e01de1b5adaa9db\n",
            "Successfully built dscribe\n",
            "Installing collected packages: sparse, pybind11, dscribe\n",
            "Successfully installed dscribe-1.1.0 pybind11-2.7.1 sparse-0.12.0\n",
            "Cloning into 'tut'...\n",
            "remote: Enumerating objects: 393, done.\u001b[K\n",
            "remote: Counting objects: 100% (76/76), done.\u001b[K\n",
            "remote: Compressing objects: 100% (71/71), done.\u001b[K\n",
            "remote: Total 393 (delta 37), reused 16 (delta 5), pack-reused 317\u001b[K\n",
            "Receiving objects: 100% (393/393), 543.18 MiB | 35.92 MiB/s, done.\n",
            "Resolving deltas: 100% (160/160), done.\n",
            "Checking out files: 100% (129/129), done.\n"
          ],
          "name": "stdout"
        }
      ]
    },
    {
      "cell_type": "markdown",
      "metadata": {
        "id": "aOg3Xy-1kiiT"
      },
      "source": [
        "### Atom description\n",
        "\n",
        "We'll make an ase.Atoms class for NaCl:"
      ]
    },
    {
      "cell_type": "code",
      "metadata": {
        "id": "uIzVbnbVkiiU",
        "outputId": "edd985eb-dfcc-44df-9886-5aba3c370a00",
        "colab": {
          "base_uri": "https://localhost:8080/"
        }
      },
      "source": [
        "# Define the system under study: NaCl in a conventional cell.\n",
        "NaCl_conv = Atoms(\n",
        "    cell=[\n",
        "        [5.6402, 0.0, 0.0],\n",
        "        [0.0, 5.6402, 0.0],\n",
        "        [0.0, 0.0, 5.6402]\n",
        "    ],\n",
        "    scaled_positions=[\n",
        "        [0.0, 0.5, 0.0],\n",
        "        [0.0, 0.5, 0.5],\n",
        "        [0.0, 0.0, 0.5],\n",
        "        [0.0, 0.0, 0.0],\n",
        "        [0.5, 0.5, 0.5],\n",
        "        [0.5, 0.5, 0.0],\n",
        "        [0.5, 0.0, 0.0],\n",
        "        [0.5, 0.0, 0.5]\n",
        "    ],\n",
        "    symbols=[\"Na\", \"Cl\", \"Na\", \"Cl\", \"Na\", \"Cl\", \"Na\", \"Cl\"],\n",
        ")\n",
        "view(NaCl_conv)"
      ],
      "execution_count": 2,
      "outputs": [
        {
          "output_type": "execute_result",
          "data": {
            "text/plain": [
              "<subprocess.Popen at 0x7f03effa2750>"
            ]
          },
          "metadata": {
            "tags": []
          },
          "execution_count": 2
        }
      ]
    },
    {
      "cell_type": "markdown",
      "metadata": {
        "id": "2mqOsFqkkiiV"
      },
      "source": [
        "### Setting SOAP hyper-parameters\n",
        "Next we set the hyper-parameters to SOAP. \n",
        "1. calcpos, center of SOAP calculation\n",
        "1. rcut, sets the cutoff for atoms whose gaussian densities will be included in the integral.\n",
        "2. nmax, sets the number of orthogonal radial basis functions to use.\n",
        "3. lmax, sets the number of angular momentum terms, so l = 0, 1, ...., lmax\n",
        "\n",
        "    **Note: even when giving one SOAP calculation position, it should be wrapped in a list, as shown in example below**"
      ]
    },
    {
      "cell_type": "code",
      "metadata": {
        "id": "l7bvMJnNkiiW"
      },
      "source": [
        "# Computing SOAP\n",
        "calcpos = [0, 0, 0]\n",
        "\n",
        "soaper = SOAP(\n",
        "    rcut=8,\n",
        "    nmax=5,\n",
        "    lmax=5,\n",
        "    species=['Na', 'Cl'],\n",
        "    sparse=False\n",
        ")"
      ],
      "execution_count": 3,
      "outputs": []
    },
    {
      "cell_type": "markdown",
      "metadata": {
        "id": "U5jKoxivkiiY"
      },
      "source": [
        "### Calculation\n",
        "Now we call the soap function, and pass all the parameters"
      ]
    },
    {
      "cell_type": "code",
      "metadata": {
        "id": "SaMnKAZNkiiZ",
        "outputId": "a9937eec-2f43-40d4-c1bd-6dfad150e4ac",
        "colab": {
          "base_uri": "https://localhost:8080/"
        }
      },
      "source": [
        "#calculation\n",
        "soap1 = soaper.create(NaCl_conv, positions=[calcpos])\n",
        "print(\"Size of descriptor: {}\".format(soap1.shape[1]))\n",
        "print(\"First five values, for position {}: {}\".format(calcpos, soap1[0,:5]))"
      ],
      "execution_count": 4,
      "outputs": [
        {
          "output_type": "stream",
          "text": [
            "Size of descriptor: 330\n",
            "First five values, for position [0, 0, 0]: [ 1.31417503e-05  2.05252113e-03  3.99968684e-03 -1.00371139e-02\n",
            " -2.71834549e-02]\n"
          ],
          "name": "stdout"
        }
      ]
    },
    {
      "cell_type": "markdown",
      "metadata": {
        "id": "kxd6ztTYkiib"
      },
      "source": [
        "### Rotational invariance"
      ]
    },
    {
      "cell_type": "code",
      "metadata": {
        "id": "inHDkIpVkiib",
        "outputId": "22d3c729-dd07-43a3-b54b-5aeccb61a684",
        "colab": {
          "base_uri": "https://localhost:8080/"
        }
      },
      "source": [
        "#Rotation of positions\n",
        "\n",
        "print(\"Original positions:\\n {}\".format(NaCl_conv.positions))\n",
        "\n",
        "NaCl_conv.rotate(90, [0,1,1], center=calcpos)\n",
        "\n",
        "print(\"Rotated positions:\\n {}\".format(NaCl_conv.positions))\n",
        "\n",
        "view(NaCl_conv)"
      ],
      "execution_count": 5,
      "outputs": [
        {
          "output_type": "stream",
          "text": [
            "Original positions:\n",
            " [[0.     2.8201 0.    ]\n",
            " [0.     2.8201 2.8201]\n",
            " [0.     0.     2.8201]\n",
            " [0.     0.     0.    ]\n",
            " [2.8201 2.8201 2.8201]\n",
            " [2.8201 2.8201 0.    ]\n",
            " [2.8201 0.     0.    ]\n",
            " [2.8201 0.     2.8201]]\n",
            "Rotated positions:\n",
            " [[-1.99411183e+00  1.41005000e+00  1.41005000e+00]\n",
            " [ 0.00000000e+00  2.82010000e+00  2.82010000e+00]\n",
            " [ 1.99411183e+00  1.41005000e+00  1.41005000e+00]\n",
            " [ 0.00000000e+00  0.00000000e+00  0.00000000e+00]\n",
            " [ 1.72681322e-16  4.81421183e+00  8.25988166e-01]\n",
            " [-1.99411183e+00  3.40416183e+00 -5.84061834e-01]\n",
            " [ 1.72681322e-16  1.99411183e+00 -1.99411183e+00]\n",
            " [ 1.99411183e+00  3.40416183e+00 -5.84061834e-01]]\n"
          ],
          "name": "stdout"
        },
        {
          "output_type": "execute_result",
          "data": {
            "text/plain": [
              "<subprocess.Popen at 0x7f03eff85150>"
            ]
          },
          "metadata": {
            "tags": []
          },
          "execution_count": 5
        }
      ]
    },
    {
      "cell_type": "markdown",
      "metadata": {
        "id": "2UphdaSukiic"
      },
      "source": [
        "Recompute SOAP for the same atom, after rotation and show the difference in descriptors:"
      ]
    },
    {
      "cell_type": "code",
      "metadata": {
        "id": "jCwJF1S4kiic",
        "outputId": "2231f61a-9783-4082-bd31-d665940d3db1",
        "colab": {
          "base_uri": "https://localhost:8080/"
        }
      },
      "source": [
        "soap2 = soaper.create(NaCl_conv, positions=[calcpos])\n",
        "print(numpy.linalg.norm(soap1 - soap2))"
      ],
      "execution_count": 6,
      "outputs": [
        {
          "output_type": "stream",
          "text": [
            "4.1953580838919973e-13\n"
          ],
          "name": "stdout"
        }
      ]
    },
    {
      "cell_type": "markdown",
      "metadata": {
        "id": "eq5ohwZrkiid"
      },
      "source": [
        "## Remark\n",
        "\n",
        "The power spectrum at a desired position x is the fingerprint of the local chemical environment at this specific position. Thus, it can be used to:\n",
        "1. Compare the similarity of two local chemical environments by comparing their SOAP descriptors.\n",
        "2. Machine learn local properties, like charges, adsorption energies, etc."
      ]
    },
    {
      "cell_type": "markdown",
      "metadata": {
        "id": "nvCe0YPekiid"
      },
      "source": [
        "## Exercises"
      ]
    },
    {
      "cell_type": "markdown",
      "metadata": {
        "id": "Pkymz6EHkiid"
      },
      "source": [
        "### 1. Smoothness\n",
        "\n",
        "Verify that the SOAP is smooth under translations of point of interest."
      ]
    },
    {
      "cell_type": "code",
      "metadata": {
        "id": "yycpPGw8kiie"
      },
      "source": [
        "# DIY..."
      ],
      "execution_count": 7,
      "outputs": []
    },
    {
      "cell_type": "markdown",
      "metadata": {
        "id": "ViGogBNhkiie"
      },
      "source": [
        "### 2. Construct a global SOAP\n",
        "Use the atomic environments to construct an average SOAP descriptor for molecules"
      ]
    },
    {
      "cell_type": "code",
      "metadata": {
        "id": "tcs_oCm8kiie",
        "outputId": "8852b8e8-984e-48af-bb16-406c1b84aaaf",
        "colab": {
          "base_uri": "https://localhost:8080/"
        }
      },
      "source": [
        "# atomic positions as matrix\n",
        "molxyz = numpy.load(\"./data/molecule.coords.npy\")\n",
        "# atom types\n",
        "moltyp = numpy.load(\"./data/molecule.types.npy\")\n",
        "\n",
        "atoms_sys = Atoms(positions=molxyz, numbers=moltyp)\n",
        "view(atoms_sys)"
      ],
      "execution_count": 8,
      "outputs": [
        {
          "output_type": "execute_result",
          "data": {
            "text/plain": [
              "<subprocess.Popen at 0x7f03fd63c2d0>"
            ]
          },
          "metadata": {
            "tags": []
          },
          "execution_count": 8
        }
      ]
    },
    {
      "cell_type": "code",
      "metadata": {
        "id": "k0p0kOBckiie"
      },
      "source": [
        "# build SOAP at each atom location\n",
        "# ...\n",
        "# compute average soap for each specie\n",
        "# ...\n",
        "# concatenate the soaps to the the overall global one\n",
        "# ..."
      ],
      "execution_count": null,
      "outputs": []
    }
  ]
}